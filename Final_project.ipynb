{
 "cells": [
  {
   "cell_type": "markdown",
   "id": "85d18ed3",
   "metadata": {},
   "source": [
    "## Problem statement\n",
    "As an ML expert at The Daily Buzz, you are given the task to create a ML model to predict the\n",
    "rainfall. So, you have to create a Machine Learning Model using various Classification Models\n",
    "including Decision Trees and Ensemble methods, and compare the accuracy of each model.\n",
    "First Load the data and perform data preprocessing and after data cleaning use decision tree\n",
    "classification and then use Bagging And Boosting techniques along with the Random Forest\n",
    "Classifier then find out the accuracy score of each and create a confusion matrix to evaluate the\n",
    "performance. After completing this, take your best model and write why this model performed\n",
    "better than other models and in what ways you can further improve the accuracy of the selected\n",
    "model."
   ]
  },
  {
   "cell_type": "code",
   "execution_count": 58,
   "id": "28200ed3",
   "metadata": {},
   "outputs": [],
   "source": [
    "import numpy as np\n",
    "import pandas as pd\n",
    "import seaborn as sns"
   ]
  },
  {
   "cell_type": "markdown",
   "id": "27acde03",
   "metadata": {},
   "source": [
    "### Loading the dataset"
   ]
  },
  {
   "cell_type": "code",
   "execution_count": 59,
   "id": "92270873",
   "metadata": {},
   "outputs": [],
   "source": [
    "df=pd.read_excel('sydney_rain prediction.xlsx',header=0)"
   ]
  },
  {
   "cell_type": "code",
   "execution_count": 60,
   "id": "55885968",
   "metadata": {},
   "outputs": [
    {
     "data": {
      "text/html": [
       "<div>\n",
       "<style scoped>\n",
       "    .dataframe tbody tr th:only-of-type {\n",
       "        vertical-align: middle;\n",
       "    }\n",
       "\n",
       "    .dataframe tbody tr th {\n",
       "        vertical-align: top;\n",
       "    }\n",
       "\n",
       "    .dataframe thead th {\n",
       "        text-align: right;\n",
       "    }\n",
       "</style>\n",
       "<table border=\"1\" class=\"dataframe\">\n",
       "  <thead>\n",
       "    <tr style=\"text-align: right;\">\n",
       "      <th></th>\n",
       "      <th>Date</th>\n",
       "      <th>Location</th>\n",
       "      <th>MinTemp</th>\n",
       "      <th>MaxTemp</th>\n",
       "      <th>Rainfall</th>\n",
       "      <th>Evaporation</th>\n",
       "      <th>Sunshine</th>\n",
       "      <th>Humidity9am</th>\n",
       "      <th>Humidity3pm</th>\n",
       "      <th>Pressure9am</th>\n",
       "      <th>Pressure3pm</th>\n",
       "      <th>Cloud9am</th>\n",
       "      <th>Cloud3pm</th>\n",
       "      <th>Temp9am</th>\n",
       "      <th>Temp3pm</th>\n",
       "      <th>RainToday</th>\n",
       "      <th>RainTomorrow</th>\n",
       "    </tr>\n",
       "  </thead>\n",
       "  <tbody>\n",
       "    <tr>\n",
       "      <th>0</th>\n",
       "      <td>2008-02-01</td>\n",
       "      <td>Sydney</td>\n",
       "      <td>19.5</td>\n",
       "      <td>22.4</td>\n",
       "      <td>15.6</td>\n",
       "      <td>6.2</td>\n",
       "      <td>0.0</td>\n",
       "      <td>92.0</td>\n",
       "      <td>84.0</td>\n",
       "      <td>1017.6</td>\n",
       "      <td>1017.4</td>\n",
       "      <td>8.0</td>\n",
       "      <td>8.0</td>\n",
       "      <td>20.7</td>\n",
       "      <td>20.9</td>\n",
       "      <td>Yes</td>\n",
       "      <td>Yes</td>\n",
       "    </tr>\n",
       "    <tr>\n",
       "      <th>1</th>\n",
       "      <td>2008-02-02</td>\n",
       "      <td>Sydney</td>\n",
       "      <td>19.5</td>\n",
       "      <td>25.6</td>\n",
       "      <td>6.0</td>\n",
       "      <td>3.4</td>\n",
       "      <td>2.7</td>\n",
       "      <td>83.0</td>\n",
       "      <td>73.0</td>\n",
       "      <td>1017.9</td>\n",
       "      <td>1016.4</td>\n",
       "      <td>7.0</td>\n",
       "      <td>7.0</td>\n",
       "      <td>22.4</td>\n",
       "      <td>24.8</td>\n",
       "      <td>Yes</td>\n",
       "      <td>Yes</td>\n",
       "    </tr>\n",
       "    <tr>\n",
       "      <th>2</th>\n",
       "      <td>2008-02-03</td>\n",
       "      <td>Sydney</td>\n",
       "      <td>21.6</td>\n",
       "      <td>24.5</td>\n",
       "      <td>6.6</td>\n",
       "      <td>2.4</td>\n",
       "      <td>0.1</td>\n",
       "      <td>88.0</td>\n",
       "      <td>86.0</td>\n",
       "      <td>1016.7</td>\n",
       "      <td>1015.6</td>\n",
       "      <td>7.0</td>\n",
       "      <td>8.0</td>\n",
       "      <td>23.5</td>\n",
       "      <td>23.0</td>\n",
       "      <td>Yes</td>\n",
       "      <td>Yes</td>\n",
       "    </tr>\n",
       "    <tr>\n",
       "      <th>3</th>\n",
       "      <td>2008-02-04</td>\n",
       "      <td>Sydney</td>\n",
       "      <td>20.2</td>\n",
       "      <td>22.8</td>\n",
       "      <td>18.8</td>\n",
       "      <td>2.2</td>\n",
       "      <td>0.0</td>\n",
       "      <td>83.0</td>\n",
       "      <td>90.0</td>\n",
       "      <td>1014.2</td>\n",
       "      <td>1011.8</td>\n",
       "      <td>8.0</td>\n",
       "      <td>8.0</td>\n",
       "      <td>21.4</td>\n",
       "      <td>20.9</td>\n",
       "      <td>Yes</td>\n",
       "      <td>Yes</td>\n",
       "    </tr>\n",
       "    <tr>\n",
       "      <th>4</th>\n",
       "      <td>2008-02-05</td>\n",
       "      <td>Sydney</td>\n",
       "      <td>19.7</td>\n",
       "      <td>25.7</td>\n",
       "      <td>77.4</td>\n",
       "      <td>NaN</td>\n",
       "      <td>0.0</td>\n",
       "      <td>88.0</td>\n",
       "      <td>74.0</td>\n",
       "      <td>1008.3</td>\n",
       "      <td>1004.8</td>\n",
       "      <td>8.0</td>\n",
       "      <td>8.0</td>\n",
       "      <td>22.5</td>\n",
       "      <td>25.5</td>\n",
       "      <td>Yes</td>\n",
       "      <td>Yes</td>\n",
       "    </tr>\n",
       "  </tbody>\n",
       "</table>\n",
       "</div>"
      ],
      "text/plain": [
       "        Date Location  MinTemp  MaxTemp  Rainfall  Evaporation  Sunshine  \\\n",
       "0 2008-02-01   Sydney     19.5     22.4      15.6          6.2       0.0   \n",
       "1 2008-02-02   Sydney     19.5     25.6       6.0          3.4       2.7   \n",
       "2 2008-02-03   Sydney     21.6     24.5       6.6          2.4       0.1   \n",
       "3 2008-02-04   Sydney     20.2     22.8      18.8          2.2       0.0   \n",
       "4 2008-02-05   Sydney     19.7     25.7      77.4          NaN       0.0   \n",
       "\n",
       "   Humidity9am  Humidity3pm  Pressure9am  Pressure3pm  Cloud9am  Cloud3pm  \\\n",
       "0         92.0         84.0       1017.6       1017.4       8.0       8.0   \n",
       "1         83.0         73.0       1017.9       1016.4       7.0       7.0   \n",
       "2         88.0         86.0       1016.7       1015.6       7.0       8.0   \n",
       "3         83.0         90.0       1014.2       1011.8       8.0       8.0   \n",
       "4         88.0         74.0       1008.3       1004.8       8.0       8.0   \n",
       "\n",
       "   Temp9am  Temp3pm RainToday RainTomorrow  \n",
       "0     20.7     20.9       Yes          Yes  \n",
       "1     22.4     24.8       Yes          Yes  \n",
       "2     23.5     23.0       Yes          Yes  \n",
       "3     21.4     20.9       Yes          Yes  \n",
       "4     22.5     25.5       Yes          Yes  "
      ]
     },
     "execution_count": 60,
     "metadata": {},
     "output_type": "execute_result"
    }
   ],
   "source": [
    "df.head()"
   ]
  },
  {
   "cell_type": "markdown",
   "id": "bcc8ccb1",
   "metadata": {},
   "source": [
    "We have to train a model such that it can predict values of RainTomorrow variables. So we will get dummies for that variable so that we can get predictions as 0 or 1."
   ]
  },
  {
   "cell_type": "markdown",
   "id": "89538a0e",
   "metadata": {},
   "source": [
    "### Data preprocessing"
   ]
  },
  {
   "cell_type": "markdown",
   "id": "dd15a0ef",
   "metadata": {},
   "source": [
    "As the Date and Location column doesn't add anything for prdicting rainfall so I am going to drop those columns."
   ]
  },
  {
   "cell_type": "code",
   "execution_count": 61,
   "id": "48d0d9fc",
   "metadata": {},
   "outputs": [],
   "source": [
    "df=df.drop(['Date','Location'],axis=1)"
   ]
  },
  {
   "cell_type": "code",
   "execution_count": 62,
   "id": "d68d9361",
   "metadata": {},
   "outputs": [
    {
     "data": {
      "text/html": [
       "<div>\n",
       "<style scoped>\n",
       "    .dataframe tbody tr th:only-of-type {\n",
       "        vertical-align: middle;\n",
       "    }\n",
       "\n",
       "    .dataframe tbody tr th {\n",
       "        vertical-align: top;\n",
       "    }\n",
       "\n",
       "    .dataframe thead th {\n",
       "        text-align: right;\n",
       "    }\n",
       "</style>\n",
       "<table border=\"1\" class=\"dataframe\">\n",
       "  <thead>\n",
       "    <tr style=\"text-align: right;\">\n",
       "      <th></th>\n",
       "      <th>MinTemp</th>\n",
       "      <th>MaxTemp</th>\n",
       "      <th>Rainfall</th>\n",
       "      <th>Evaporation</th>\n",
       "      <th>Sunshine</th>\n",
       "      <th>Humidity9am</th>\n",
       "      <th>Humidity3pm</th>\n",
       "      <th>Pressure9am</th>\n",
       "      <th>Pressure3pm</th>\n",
       "      <th>Cloud9am</th>\n",
       "      <th>Cloud3pm</th>\n",
       "      <th>Temp9am</th>\n",
       "      <th>Temp3pm</th>\n",
       "      <th>RainToday</th>\n",
       "      <th>RainTomorrow</th>\n",
       "    </tr>\n",
       "  </thead>\n",
       "  <tbody>\n",
       "    <tr>\n",
       "      <th>0</th>\n",
       "      <td>19.5</td>\n",
       "      <td>22.4</td>\n",
       "      <td>15.6</td>\n",
       "      <td>6.2</td>\n",
       "      <td>0.0</td>\n",
       "      <td>92.0</td>\n",
       "      <td>84.0</td>\n",
       "      <td>1017.6</td>\n",
       "      <td>1017.4</td>\n",
       "      <td>8.0</td>\n",
       "      <td>8.0</td>\n",
       "      <td>20.7</td>\n",
       "      <td>20.9</td>\n",
       "      <td>Yes</td>\n",
       "      <td>Yes</td>\n",
       "    </tr>\n",
       "    <tr>\n",
       "      <th>1</th>\n",
       "      <td>19.5</td>\n",
       "      <td>25.6</td>\n",
       "      <td>6.0</td>\n",
       "      <td>3.4</td>\n",
       "      <td>2.7</td>\n",
       "      <td>83.0</td>\n",
       "      <td>73.0</td>\n",
       "      <td>1017.9</td>\n",
       "      <td>1016.4</td>\n",
       "      <td>7.0</td>\n",
       "      <td>7.0</td>\n",
       "      <td>22.4</td>\n",
       "      <td>24.8</td>\n",
       "      <td>Yes</td>\n",
       "      <td>Yes</td>\n",
       "    </tr>\n",
       "    <tr>\n",
       "      <th>2</th>\n",
       "      <td>21.6</td>\n",
       "      <td>24.5</td>\n",
       "      <td>6.6</td>\n",
       "      <td>2.4</td>\n",
       "      <td>0.1</td>\n",
       "      <td>88.0</td>\n",
       "      <td>86.0</td>\n",
       "      <td>1016.7</td>\n",
       "      <td>1015.6</td>\n",
       "      <td>7.0</td>\n",
       "      <td>8.0</td>\n",
       "      <td>23.5</td>\n",
       "      <td>23.0</td>\n",
       "      <td>Yes</td>\n",
       "      <td>Yes</td>\n",
       "    </tr>\n",
       "    <tr>\n",
       "      <th>3</th>\n",
       "      <td>20.2</td>\n",
       "      <td>22.8</td>\n",
       "      <td>18.8</td>\n",
       "      <td>2.2</td>\n",
       "      <td>0.0</td>\n",
       "      <td>83.0</td>\n",
       "      <td>90.0</td>\n",
       "      <td>1014.2</td>\n",
       "      <td>1011.8</td>\n",
       "      <td>8.0</td>\n",
       "      <td>8.0</td>\n",
       "      <td>21.4</td>\n",
       "      <td>20.9</td>\n",
       "      <td>Yes</td>\n",
       "      <td>Yes</td>\n",
       "    </tr>\n",
       "    <tr>\n",
       "      <th>4</th>\n",
       "      <td>19.7</td>\n",
       "      <td>25.7</td>\n",
       "      <td>77.4</td>\n",
       "      <td>NaN</td>\n",
       "      <td>0.0</td>\n",
       "      <td>88.0</td>\n",
       "      <td>74.0</td>\n",
       "      <td>1008.3</td>\n",
       "      <td>1004.8</td>\n",
       "      <td>8.0</td>\n",
       "      <td>8.0</td>\n",
       "      <td>22.5</td>\n",
       "      <td>25.5</td>\n",
       "      <td>Yes</td>\n",
       "      <td>Yes</td>\n",
       "    </tr>\n",
       "  </tbody>\n",
       "</table>\n",
       "</div>"
      ],
      "text/plain": [
       "   MinTemp  MaxTemp  Rainfall  Evaporation  Sunshine  Humidity9am  \\\n",
       "0     19.5     22.4      15.6          6.2       0.0         92.0   \n",
       "1     19.5     25.6       6.0          3.4       2.7         83.0   \n",
       "2     21.6     24.5       6.6          2.4       0.1         88.0   \n",
       "3     20.2     22.8      18.8          2.2       0.0         83.0   \n",
       "4     19.7     25.7      77.4          NaN       0.0         88.0   \n",
       "\n",
       "   Humidity3pm  Pressure9am  Pressure3pm  Cloud9am  Cloud3pm  Temp9am  \\\n",
       "0         84.0       1017.6       1017.4       8.0       8.0     20.7   \n",
       "1         73.0       1017.9       1016.4       7.0       7.0     22.4   \n",
       "2         86.0       1016.7       1015.6       7.0       8.0     23.5   \n",
       "3         90.0       1014.2       1011.8       8.0       8.0     21.4   \n",
       "4         74.0       1008.3       1004.8       8.0       8.0     22.5   \n",
       "\n",
       "   Temp3pm RainToday RainTomorrow  \n",
       "0     20.9       Yes          Yes  \n",
       "1     24.8       Yes          Yes  \n",
       "2     23.0       Yes          Yes  \n",
       "3     20.9       Yes          Yes  \n",
       "4     25.5       Yes          Yes  "
      ]
     },
     "execution_count": 62,
     "metadata": {},
     "output_type": "execute_result"
    }
   ],
   "source": [
    "df.head()"
   ]
  },
  {
   "cell_type": "code",
   "execution_count": 63,
   "id": "5ca7a4b3",
   "metadata": {},
   "outputs": [],
   "source": [
    "#creating dummy variables\n",
    "df=pd.get_dummies(df,drop_first=True)"
   ]
  },
  {
   "cell_type": "code",
   "execution_count": 64,
   "id": "7bbd40c9",
   "metadata": {},
   "outputs": [
    {
     "data": {
      "text/html": [
       "<div>\n",
       "<style scoped>\n",
       "    .dataframe tbody tr th:only-of-type {\n",
       "        vertical-align: middle;\n",
       "    }\n",
       "\n",
       "    .dataframe tbody tr th {\n",
       "        vertical-align: top;\n",
       "    }\n",
       "\n",
       "    .dataframe thead th {\n",
       "        text-align: right;\n",
       "    }\n",
       "</style>\n",
       "<table border=\"1\" class=\"dataframe\">\n",
       "  <thead>\n",
       "    <tr style=\"text-align: right;\">\n",
       "      <th></th>\n",
       "      <th>MinTemp</th>\n",
       "      <th>MaxTemp</th>\n",
       "      <th>Rainfall</th>\n",
       "      <th>Evaporation</th>\n",
       "      <th>Sunshine</th>\n",
       "      <th>Humidity9am</th>\n",
       "      <th>Humidity3pm</th>\n",
       "      <th>Pressure9am</th>\n",
       "      <th>Pressure3pm</th>\n",
       "      <th>Cloud9am</th>\n",
       "      <th>Cloud3pm</th>\n",
       "      <th>Temp9am</th>\n",
       "      <th>Temp3pm</th>\n",
       "      <th>RainToday_Yes</th>\n",
       "      <th>RainTomorrow_Yes</th>\n",
       "    </tr>\n",
       "  </thead>\n",
       "  <tbody>\n",
       "    <tr>\n",
       "      <th>0</th>\n",
       "      <td>19.5</td>\n",
       "      <td>22.4</td>\n",
       "      <td>15.6</td>\n",
       "      <td>6.2</td>\n",
       "      <td>0.0</td>\n",
       "      <td>92.0</td>\n",
       "      <td>84.0</td>\n",
       "      <td>1017.6</td>\n",
       "      <td>1017.4</td>\n",
       "      <td>8.0</td>\n",
       "      <td>8.0</td>\n",
       "      <td>20.7</td>\n",
       "      <td>20.9</td>\n",
       "      <td>1</td>\n",
       "      <td>1</td>\n",
       "    </tr>\n",
       "    <tr>\n",
       "      <th>1</th>\n",
       "      <td>19.5</td>\n",
       "      <td>25.6</td>\n",
       "      <td>6.0</td>\n",
       "      <td>3.4</td>\n",
       "      <td>2.7</td>\n",
       "      <td>83.0</td>\n",
       "      <td>73.0</td>\n",
       "      <td>1017.9</td>\n",
       "      <td>1016.4</td>\n",
       "      <td>7.0</td>\n",
       "      <td>7.0</td>\n",
       "      <td>22.4</td>\n",
       "      <td>24.8</td>\n",
       "      <td>1</td>\n",
       "      <td>1</td>\n",
       "    </tr>\n",
       "    <tr>\n",
       "      <th>2</th>\n",
       "      <td>21.6</td>\n",
       "      <td>24.5</td>\n",
       "      <td>6.6</td>\n",
       "      <td>2.4</td>\n",
       "      <td>0.1</td>\n",
       "      <td>88.0</td>\n",
       "      <td>86.0</td>\n",
       "      <td>1016.7</td>\n",
       "      <td>1015.6</td>\n",
       "      <td>7.0</td>\n",
       "      <td>8.0</td>\n",
       "      <td>23.5</td>\n",
       "      <td>23.0</td>\n",
       "      <td>1</td>\n",
       "      <td>1</td>\n",
       "    </tr>\n",
       "    <tr>\n",
       "      <th>3</th>\n",
       "      <td>20.2</td>\n",
       "      <td>22.8</td>\n",
       "      <td>18.8</td>\n",
       "      <td>2.2</td>\n",
       "      <td>0.0</td>\n",
       "      <td>83.0</td>\n",
       "      <td>90.0</td>\n",
       "      <td>1014.2</td>\n",
       "      <td>1011.8</td>\n",
       "      <td>8.0</td>\n",
       "      <td>8.0</td>\n",
       "      <td>21.4</td>\n",
       "      <td>20.9</td>\n",
       "      <td>1</td>\n",
       "      <td>1</td>\n",
       "    </tr>\n",
       "    <tr>\n",
       "      <th>4</th>\n",
       "      <td>19.7</td>\n",
       "      <td>25.7</td>\n",
       "      <td>77.4</td>\n",
       "      <td>NaN</td>\n",
       "      <td>0.0</td>\n",
       "      <td>88.0</td>\n",
       "      <td>74.0</td>\n",
       "      <td>1008.3</td>\n",
       "      <td>1004.8</td>\n",
       "      <td>8.0</td>\n",
       "      <td>8.0</td>\n",
       "      <td>22.5</td>\n",
       "      <td>25.5</td>\n",
       "      <td>1</td>\n",
       "      <td>1</td>\n",
       "    </tr>\n",
       "  </tbody>\n",
       "</table>\n",
       "</div>"
      ],
      "text/plain": [
       "   MinTemp  MaxTemp  Rainfall  Evaporation  Sunshine  Humidity9am  \\\n",
       "0     19.5     22.4      15.6          6.2       0.0         92.0   \n",
       "1     19.5     25.6       6.0          3.4       2.7         83.0   \n",
       "2     21.6     24.5       6.6          2.4       0.1         88.0   \n",
       "3     20.2     22.8      18.8          2.2       0.0         83.0   \n",
       "4     19.7     25.7      77.4          NaN       0.0         88.0   \n",
       "\n",
       "   Humidity3pm  Pressure9am  Pressure3pm  Cloud9am  Cloud3pm  Temp9am  \\\n",
       "0         84.0       1017.6       1017.4       8.0       8.0     20.7   \n",
       "1         73.0       1017.9       1016.4       7.0       7.0     22.4   \n",
       "2         86.0       1016.7       1015.6       7.0       8.0     23.5   \n",
       "3         90.0       1014.2       1011.8       8.0       8.0     21.4   \n",
       "4         74.0       1008.3       1004.8       8.0       8.0     22.5   \n",
       "\n",
       "   Temp3pm  RainToday_Yes  RainTomorrow_Yes  \n",
       "0     20.9              1                 1  \n",
       "1     24.8              1                 1  \n",
       "2     23.0              1                 1  \n",
       "3     20.9              1                 1  \n",
       "4     25.5              1                 1  "
      ]
     },
     "execution_count": 64,
     "metadata": {},
     "output_type": "execute_result"
    }
   ],
   "source": [
    "df.head()"
   ]
  },
  {
   "cell_type": "code",
   "execution_count": 65,
   "id": "8bfe54e6",
   "metadata": {},
   "outputs": [
    {
     "data": {
      "text/html": [
       "<div>\n",
       "<style scoped>\n",
       "    .dataframe tbody tr th:only-of-type {\n",
       "        vertical-align: middle;\n",
       "    }\n",
       "\n",
       "    .dataframe tbody tr th {\n",
       "        vertical-align: top;\n",
       "    }\n",
       "\n",
       "    .dataframe thead th {\n",
       "        text-align: right;\n",
       "    }\n",
       "</style>\n",
       "<table border=\"1\" class=\"dataframe\">\n",
       "  <thead>\n",
       "    <tr style=\"text-align: right;\">\n",
       "      <th></th>\n",
       "      <th>MinTemp</th>\n",
       "      <th>MaxTemp</th>\n",
       "      <th>Rainfall</th>\n",
       "      <th>Evaporation</th>\n",
       "      <th>Sunshine</th>\n",
       "      <th>Humidity9am</th>\n",
       "      <th>Humidity3pm</th>\n",
       "      <th>Pressure9am</th>\n",
       "      <th>Pressure3pm</th>\n",
       "      <th>Cloud9am</th>\n",
       "      <th>Cloud3pm</th>\n",
       "      <th>Temp9am</th>\n",
       "      <th>Temp3pm</th>\n",
       "      <th>RainToday_Yes</th>\n",
       "      <th>RainTomorrow_Yes</th>\n",
       "    </tr>\n",
       "  </thead>\n",
       "  <tbody>\n",
       "    <tr>\n",
       "      <th>count</th>\n",
       "      <td>3334.000000</td>\n",
       "      <td>3335.000000</td>\n",
       "      <td>3331.000000</td>\n",
       "      <td>3286.000000</td>\n",
       "      <td>3321.000000</td>\n",
       "      <td>3323.000000</td>\n",
       "      <td>3324.000000</td>\n",
       "      <td>3317.000000</td>\n",
       "      <td>3318.000000</td>\n",
       "      <td>2771.000000</td>\n",
       "      <td>2776.000000</td>\n",
       "      <td>3333.000000</td>\n",
       "      <td>3333.000000</td>\n",
       "      <td>3337.000000</td>\n",
       "      <td>3337.000000</td>\n",
       "    </tr>\n",
       "    <tr>\n",
       "      <th>mean</th>\n",
       "      <td>14.865057</td>\n",
       "      <td>23.002339</td>\n",
       "      <td>3.330231</td>\n",
       "      <td>5.187432</td>\n",
       "      <td>7.179374</td>\n",
       "      <td>68.229010</td>\n",
       "      <td>54.699158</td>\n",
       "      <td>1018.346156</td>\n",
       "      <td>1016.018774</td>\n",
       "      <td>4.181523</td>\n",
       "      <td>4.218660</td>\n",
       "      <td>17.819742</td>\n",
       "      <td>21.533333</td>\n",
       "      <td>0.259515</td>\n",
       "      <td>0.259215</td>\n",
       "    </tr>\n",
       "    <tr>\n",
       "      <th>std</th>\n",
       "      <td>4.553641</td>\n",
       "      <td>4.494638</td>\n",
       "      <td>9.895172</td>\n",
       "      <td>2.777407</td>\n",
       "      <td>3.810886</td>\n",
       "      <td>15.085355</td>\n",
       "      <td>16.293530</td>\n",
       "      <td>7.021571</td>\n",
       "      <td>7.032211</td>\n",
       "      <td>2.749578</td>\n",
       "      <td>2.641885</td>\n",
       "      <td>4.897177</td>\n",
       "      <td>4.303737</td>\n",
       "      <td>0.438434</td>\n",
       "      <td>0.438269</td>\n",
       "    </tr>\n",
       "    <tr>\n",
       "      <th>min</th>\n",
       "      <td>4.300000</td>\n",
       "      <td>11.700000</td>\n",
       "      <td>0.000000</td>\n",
       "      <td>0.000000</td>\n",
       "      <td>0.000000</td>\n",
       "      <td>19.000000</td>\n",
       "      <td>10.000000</td>\n",
       "      <td>986.700000</td>\n",
       "      <td>989.800000</td>\n",
       "      <td>0.000000</td>\n",
       "      <td>0.000000</td>\n",
       "      <td>6.400000</td>\n",
       "      <td>10.200000</td>\n",
       "      <td>0.000000</td>\n",
       "      <td>0.000000</td>\n",
       "    </tr>\n",
       "    <tr>\n",
       "      <th>25%</th>\n",
       "      <td>11.000000</td>\n",
       "      <td>19.600000</td>\n",
       "      <td>0.000000</td>\n",
       "      <td>3.200000</td>\n",
       "      <td>4.300000</td>\n",
       "      <td>58.000000</td>\n",
       "      <td>44.000000</td>\n",
       "      <td>1013.700000</td>\n",
       "      <td>1011.300000</td>\n",
       "      <td>1.000000</td>\n",
       "      <td>1.000000</td>\n",
       "      <td>13.800000</td>\n",
       "      <td>18.400000</td>\n",
       "      <td>0.000000</td>\n",
       "      <td>0.000000</td>\n",
       "    </tr>\n",
       "    <tr>\n",
       "      <th>50%</th>\n",
       "      <td>14.900000</td>\n",
       "      <td>22.800000</td>\n",
       "      <td>0.000000</td>\n",
       "      <td>4.800000</td>\n",
       "      <td>8.300000</td>\n",
       "      <td>69.000000</td>\n",
       "      <td>56.000000</td>\n",
       "      <td>1018.600000</td>\n",
       "      <td>1016.300000</td>\n",
       "      <td>5.000000</td>\n",
       "      <td>4.000000</td>\n",
       "      <td>18.200000</td>\n",
       "      <td>21.300000</td>\n",
       "      <td>0.000000</td>\n",
       "      <td>0.000000</td>\n",
       "    </tr>\n",
       "    <tr>\n",
       "      <th>75%</th>\n",
       "      <td>18.700000</td>\n",
       "      <td>26.000000</td>\n",
       "      <td>1.400000</td>\n",
       "      <td>7.000000</td>\n",
       "      <td>10.200000</td>\n",
       "      <td>80.000000</td>\n",
       "      <td>65.000000</td>\n",
       "      <td>1023.100000</td>\n",
       "      <td>1020.800000</td>\n",
       "      <td>7.000000</td>\n",
       "      <td>7.000000</td>\n",
       "      <td>21.700000</td>\n",
       "      <td>24.500000</td>\n",
       "      <td>1.000000</td>\n",
       "      <td>1.000000</td>\n",
       "    </tr>\n",
       "    <tr>\n",
       "      <th>max</th>\n",
       "      <td>27.600000</td>\n",
       "      <td>45.800000</td>\n",
       "      <td>119.400000</td>\n",
       "      <td>18.400000</td>\n",
       "      <td>13.600000</td>\n",
       "      <td>100.000000</td>\n",
       "      <td>99.000000</td>\n",
       "      <td>1039.000000</td>\n",
       "      <td>1036.700000</td>\n",
       "      <td>9.000000</td>\n",
       "      <td>8.000000</td>\n",
       "      <td>36.500000</td>\n",
       "      <td>44.700000</td>\n",
       "      <td>1.000000</td>\n",
       "      <td>1.000000</td>\n",
       "    </tr>\n",
       "  </tbody>\n",
       "</table>\n",
       "</div>"
      ],
      "text/plain": [
       "           MinTemp      MaxTemp     Rainfall  Evaporation     Sunshine  \\\n",
       "count  3334.000000  3335.000000  3331.000000  3286.000000  3321.000000   \n",
       "mean     14.865057    23.002339     3.330231     5.187432     7.179374   \n",
       "std       4.553641     4.494638     9.895172     2.777407     3.810886   \n",
       "min       4.300000    11.700000     0.000000     0.000000     0.000000   \n",
       "25%      11.000000    19.600000     0.000000     3.200000     4.300000   \n",
       "50%      14.900000    22.800000     0.000000     4.800000     8.300000   \n",
       "75%      18.700000    26.000000     1.400000     7.000000    10.200000   \n",
       "max      27.600000    45.800000   119.400000    18.400000    13.600000   \n",
       "\n",
       "       Humidity9am  Humidity3pm  Pressure9am  Pressure3pm     Cloud9am  \\\n",
       "count  3323.000000  3324.000000  3317.000000  3318.000000  2771.000000   \n",
       "mean     68.229010    54.699158  1018.346156  1016.018774     4.181523   \n",
       "std      15.085355    16.293530     7.021571     7.032211     2.749578   \n",
       "min      19.000000    10.000000   986.700000   989.800000     0.000000   \n",
       "25%      58.000000    44.000000  1013.700000  1011.300000     1.000000   \n",
       "50%      69.000000    56.000000  1018.600000  1016.300000     5.000000   \n",
       "75%      80.000000    65.000000  1023.100000  1020.800000     7.000000   \n",
       "max     100.000000    99.000000  1039.000000  1036.700000     9.000000   \n",
       "\n",
       "          Cloud3pm      Temp9am      Temp3pm  RainToday_Yes  RainTomorrow_Yes  \n",
       "count  2776.000000  3333.000000  3333.000000    3337.000000       3337.000000  \n",
       "mean      4.218660    17.819742    21.533333       0.259515          0.259215  \n",
       "std       2.641885     4.897177     4.303737       0.438434          0.438269  \n",
       "min       0.000000     6.400000    10.200000       0.000000          0.000000  \n",
       "25%       1.000000    13.800000    18.400000       0.000000          0.000000  \n",
       "50%       4.000000    18.200000    21.300000       0.000000          0.000000  \n",
       "75%       7.000000    21.700000    24.500000       1.000000          1.000000  \n",
       "max       8.000000    36.500000    44.700000       1.000000          1.000000  "
      ]
     },
     "execution_count": 65,
     "metadata": {},
     "output_type": "execute_result"
    }
   ],
   "source": [
    "# Viewing the description of the dataset\n",
    "df.describe()"
   ]
  },
  {
   "cell_type": "markdown",
   "id": "c3c13cfe",
   "metadata": {},
   "source": [
    "From the above description it's visible that most of the columns got missing values so I am going to replace those missing values with the mean of their respective coluns."
   ]
  },
  {
   "cell_type": "code",
   "execution_count": 66,
   "id": "fd301440",
   "metadata": {},
   "outputs": [],
   "source": [
    "# imputing missing values \n",
    "df=df.fillna(df.mean())"
   ]
  },
  {
   "cell_type": "code",
   "execution_count": 67,
   "id": "84b5aca8",
   "metadata": {},
   "outputs": [
    {
     "data": {
      "text/html": [
       "<div>\n",
       "<style scoped>\n",
       "    .dataframe tbody tr th:only-of-type {\n",
       "        vertical-align: middle;\n",
       "    }\n",
       "\n",
       "    .dataframe tbody tr th {\n",
       "        vertical-align: top;\n",
       "    }\n",
       "\n",
       "    .dataframe thead th {\n",
       "        text-align: right;\n",
       "    }\n",
       "</style>\n",
       "<table border=\"1\" class=\"dataframe\">\n",
       "  <thead>\n",
       "    <tr style=\"text-align: right;\">\n",
       "      <th></th>\n",
       "      <th>MinTemp</th>\n",
       "      <th>MaxTemp</th>\n",
       "      <th>Rainfall</th>\n",
       "      <th>Evaporation</th>\n",
       "      <th>Sunshine</th>\n",
       "      <th>Humidity9am</th>\n",
       "      <th>Humidity3pm</th>\n",
       "      <th>Pressure9am</th>\n",
       "      <th>Pressure3pm</th>\n",
       "      <th>Cloud9am</th>\n",
       "      <th>Cloud3pm</th>\n",
       "      <th>Temp9am</th>\n",
       "      <th>Temp3pm</th>\n",
       "      <th>RainToday_Yes</th>\n",
       "      <th>RainTomorrow_Yes</th>\n",
       "    </tr>\n",
       "  </thead>\n",
       "  <tbody>\n",
       "    <tr>\n",
       "      <th>count</th>\n",
       "      <td>3337.000000</td>\n",
       "      <td>3337.000000</td>\n",
       "      <td>3337.000000</td>\n",
       "      <td>3337.000000</td>\n",
       "      <td>3337.000000</td>\n",
       "      <td>3337.000000</td>\n",
       "      <td>3337.000000</td>\n",
       "      <td>3337.000000</td>\n",
       "      <td>3337.000000</td>\n",
       "      <td>3337.000000</td>\n",
       "      <td>3337.000000</td>\n",
       "      <td>3337.000000</td>\n",
       "      <td>3337.000000</td>\n",
       "      <td>3337.000000</td>\n",
       "      <td>3337.000000</td>\n",
       "    </tr>\n",
       "    <tr>\n",
       "      <th>mean</th>\n",
       "      <td>14.865057</td>\n",
       "      <td>23.002339</td>\n",
       "      <td>3.330231</td>\n",
       "      <td>5.187432</td>\n",
       "      <td>7.179374</td>\n",
       "      <td>68.229010</td>\n",
       "      <td>54.699158</td>\n",
       "      <td>1018.346156</td>\n",
       "      <td>1016.018774</td>\n",
       "      <td>4.181523</td>\n",
       "      <td>4.218660</td>\n",
       "      <td>17.819742</td>\n",
       "      <td>21.533333</td>\n",
       "      <td>0.259515</td>\n",
       "      <td>0.259215</td>\n",
       "    </tr>\n",
       "    <tr>\n",
       "      <th>std</th>\n",
       "      <td>4.551593</td>\n",
       "      <td>4.493290</td>\n",
       "      <td>9.886270</td>\n",
       "      <td>2.756095</td>\n",
       "      <td>3.801737</td>\n",
       "      <td>15.053668</td>\n",
       "      <td>16.261752</td>\n",
       "      <td>7.000492</td>\n",
       "      <td>7.012157</td>\n",
       "      <td>2.505491</td>\n",
       "      <td>2.409531</td>\n",
       "      <td>4.894240</td>\n",
       "      <td>4.301156</td>\n",
       "      <td>0.438434</td>\n",
       "      <td>0.438269</td>\n",
       "    </tr>\n",
       "    <tr>\n",
       "      <th>min</th>\n",
       "      <td>4.300000</td>\n",
       "      <td>11.700000</td>\n",
       "      <td>0.000000</td>\n",
       "      <td>0.000000</td>\n",
       "      <td>0.000000</td>\n",
       "      <td>19.000000</td>\n",
       "      <td>10.000000</td>\n",
       "      <td>986.700000</td>\n",
       "      <td>989.800000</td>\n",
       "      <td>0.000000</td>\n",
       "      <td>0.000000</td>\n",
       "      <td>6.400000</td>\n",
       "      <td>10.200000</td>\n",
       "      <td>0.000000</td>\n",
       "      <td>0.000000</td>\n",
       "    </tr>\n",
       "    <tr>\n",
       "      <th>25%</th>\n",
       "      <td>11.000000</td>\n",
       "      <td>19.600000</td>\n",
       "      <td>0.000000</td>\n",
       "      <td>3.200000</td>\n",
       "      <td>4.300000</td>\n",
       "      <td>58.000000</td>\n",
       "      <td>44.000000</td>\n",
       "      <td>1013.800000</td>\n",
       "      <td>1011.300000</td>\n",
       "      <td>2.000000</td>\n",
       "      <td>2.000000</td>\n",
       "      <td>13.800000</td>\n",
       "      <td>18.400000</td>\n",
       "      <td>0.000000</td>\n",
       "      <td>0.000000</td>\n",
       "    </tr>\n",
       "    <tr>\n",
       "      <th>50%</th>\n",
       "      <td>14.900000</td>\n",
       "      <td>22.800000</td>\n",
       "      <td>0.000000</td>\n",
       "      <td>4.800000</td>\n",
       "      <td>8.200000</td>\n",
       "      <td>69.000000</td>\n",
       "      <td>56.000000</td>\n",
       "      <td>1018.500000</td>\n",
       "      <td>1016.300000</td>\n",
       "      <td>4.181523</td>\n",
       "      <td>4.218660</td>\n",
       "      <td>18.200000</td>\n",
       "      <td>21.300000</td>\n",
       "      <td>0.000000</td>\n",
       "      <td>0.000000</td>\n",
       "    </tr>\n",
       "    <tr>\n",
       "      <th>75%</th>\n",
       "      <td>18.700000</td>\n",
       "      <td>26.000000</td>\n",
       "      <td>1.400000</td>\n",
       "      <td>7.000000</td>\n",
       "      <td>10.200000</td>\n",
       "      <td>80.000000</td>\n",
       "      <td>64.000000</td>\n",
       "      <td>1023.100000</td>\n",
       "      <td>1020.800000</td>\n",
       "      <td>7.000000</td>\n",
       "      <td>7.000000</td>\n",
       "      <td>21.700000</td>\n",
       "      <td>24.500000</td>\n",
       "      <td>1.000000</td>\n",
       "      <td>1.000000</td>\n",
       "    </tr>\n",
       "    <tr>\n",
       "      <th>max</th>\n",
       "      <td>27.600000</td>\n",
       "      <td>45.800000</td>\n",
       "      <td>119.400000</td>\n",
       "      <td>18.400000</td>\n",
       "      <td>13.600000</td>\n",
       "      <td>100.000000</td>\n",
       "      <td>99.000000</td>\n",
       "      <td>1039.000000</td>\n",
       "      <td>1036.700000</td>\n",
       "      <td>9.000000</td>\n",
       "      <td>8.000000</td>\n",
       "      <td>36.500000</td>\n",
       "      <td>44.700000</td>\n",
       "      <td>1.000000</td>\n",
       "      <td>1.000000</td>\n",
       "    </tr>\n",
       "  </tbody>\n",
       "</table>\n",
       "</div>"
      ],
      "text/plain": [
       "           MinTemp      MaxTemp     Rainfall  Evaporation     Sunshine  \\\n",
       "count  3337.000000  3337.000000  3337.000000  3337.000000  3337.000000   \n",
       "mean     14.865057    23.002339     3.330231     5.187432     7.179374   \n",
       "std       4.551593     4.493290     9.886270     2.756095     3.801737   \n",
       "min       4.300000    11.700000     0.000000     0.000000     0.000000   \n",
       "25%      11.000000    19.600000     0.000000     3.200000     4.300000   \n",
       "50%      14.900000    22.800000     0.000000     4.800000     8.200000   \n",
       "75%      18.700000    26.000000     1.400000     7.000000    10.200000   \n",
       "max      27.600000    45.800000   119.400000    18.400000    13.600000   \n",
       "\n",
       "       Humidity9am  Humidity3pm  Pressure9am  Pressure3pm     Cloud9am  \\\n",
       "count  3337.000000  3337.000000  3337.000000  3337.000000  3337.000000   \n",
       "mean     68.229010    54.699158  1018.346156  1016.018774     4.181523   \n",
       "std      15.053668    16.261752     7.000492     7.012157     2.505491   \n",
       "min      19.000000    10.000000   986.700000   989.800000     0.000000   \n",
       "25%      58.000000    44.000000  1013.800000  1011.300000     2.000000   \n",
       "50%      69.000000    56.000000  1018.500000  1016.300000     4.181523   \n",
       "75%      80.000000    64.000000  1023.100000  1020.800000     7.000000   \n",
       "max     100.000000    99.000000  1039.000000  1036.700000     9.000000   \n",
       "\n",
       "          Cloud3pm      Temp9am      Temp3pm  RainToday_Yes  RainTomorrow_Yes  \n",
       "count  3337.000000  3337.000000  3337.000000    3337.000000       3337.000000  \n",
       "mean      4.218660    17.819742    21.533333       0.259515          0.259215  \n",
       "std       2.409531     4.894240     4.301156       0.438434          0.438269  \n",
       "min       0.000000     6.400000    10.200000       0.000000          0.000000  \n",
       "25%       2.000000    13.800000    18.400000       0.000000          0.000000  \n",
       "50%       4.218660    18.200000    21.300000       0.000000          0.000000  \n",
       "75%       7.000000    21.700000    24.500000       1.000000          1.000000  \n",
       "max       8.000000    36.500000    44.700000       1.000000          1.000000  "
      ]
     },
     "execution_count": 67,
     "metadata": {},
     "output_type": "execute_result"
    }
   ],
   "source": [
    "df.describe()"
   ]
  },
  {
   "cell_type": "markdown",
   "id": "88867661",
   "metadata": {},
   "source": [
    "From the previous table it should be obvious that Rainfall contains some outliers."
   ]
  },
  {
   "cell_type": "code",
   "execution_count": 68,
   "id": "bfd569c9",
   "metadata": {},
   "outputs": [
    {
     "data": {
      "text/plain": [
       "<AxesSubplot:>"
      ]
     },
     "execution_count": 68,
     "metadata": {},
     "output_type": "execute_result"
    },
    {
     "data": {
      "image/png": "[encoded data removed]",
      "text/plain": [
       "<Figure size 432x288 with 1 Axes>"
      ]
     },
     "metadata": {
      "needs_background": "light"
     },
     "output_type": "display_data"
    }
   ],
   "source": [
    "#using box_plot to plot the outliers in rainfall column\n",
    "sns.boxplot(df['Rainfall'])"
   ]
  },
  {
   "cell_type": "markdown",
   "id": "625f063e",
   "metadata": {},
   "source": [
    "As we can see there is quite a lot outliers in 'Rainfall' column so we will perform variable transformation and transform the values in range of[0,1]."
   ]
  },
  {
   "cell_type": "code",
   "execution_count": 71,
   "id": "3783b9e9",
   "metadata": {},
   "outputs": [],
   "source": [
    "from sklearn.preprocessing import MinMaxScaler\n",
    "\n",
    "def handle_rainfall(series):\n",
    "    \n",
    "    # Identifying outliers using IQR\n",
    "    Q1 = series.quantile(0.25)\n",
    "    Q3 = series.quantile(0.75)\n",
    "    IQR = Q3 - Q1\n",
    "\n",
    "    lower_bound = Q1 - 1.5 * IQR\n",
    "    upper_bound = Q3 + 1.5 * IQR\n",
    "\n",
    "    # Capping the outliers to the lower and upper bound\n",
    "    series = np.where(series < lower_bound, lower_bound, series)\n",
    "    series = np.where(series > upper_bound, upper_bound, series)\n",
    "\n",
    "    # Log transformation to handle skewness\n",
    "    series = np.log1p(series)  # log1p is used to handle zero values\n",
    "\n",
    "    # Scaling to [0, 1] range using Min-Max scaling\n",
    "    scaler = MinMaxScaler()\n",
    "    series = scaler.fit_transform(series.reshape(-1, 1))  # reshape is necessary for scaling\n",
    "\n",
    "    return pd.Series(series.flatten())\n",
    "df.Rainfall=handle_rainfall(df.Rainfall)"
   ]
  },
  {
   "cell_type": "markdown",
   "id": "205c2338",
   "metadata": {},
   "source": [
    "Handles outliers, applies log transformation, and scales the values of the given Pandas Series.\n",
    "\n",
    "Parameters:\n",
    "\n",
    "series (pd.Series): The Pandas Series to be processed.\n",
    "\n",
    "Returns:\n",
    "\n",
    "pd.Series: The processed Pandas Series with values scaled to the range [0, 1].\n"
   ]
  },
  {
   "cell_type": "code",
   "execution_count": 74,
   "id": "7ba6d684",
   "metadata": {},
   "outputs": [
    {
     "data": {
      "text/plain": [
       "<AxesSubplot:>"
      ]
     },
     "execution_count": 74,
     "metadata": {},
     "output_type": "execute_result"
    },
    {
     "data": {
      "image/png": "[encoded data removed]",
      "text/plain": [
       "<Figure size 432x288 with 1 Axes>"
      ]
     },
     "metadata": {
      "needs_background": "light"
     },
     "output_type": "display_data"
    }
   ],
   "source": [
    "sns.boxplot(df.Rainfall)"
   ]
  },
  {
   "cell_type": "code",
   "execution_count": 75,
   "id": "d7e72942",
   "metadata": {},
   "outputs": [
    {
     "data": {
      "text/html": [
       "<div>\n",
       "<style scoped>\n",
       "    .dataframe tbody tr th:only-of-type {\n",
       "        vertical-align: middle;\n",
       "    }\n",
       "\n",
       "    .dataframe tbody tr th {\n",
       "        vertical-align: top;\n",
       "    }\n",
       "\n",
       "    .dataframe thead th {\n",
       "        text-align: right;\n",
       "    }\n",
       "</style>\n",
       "<table border=\"1\" class=\"dataframe\">\n",
       "  <thead>\n",
       "    <tr style=\"text-align: right;\">\n",
       "      <th></th>\n",
       "      <th>MinTemp</th>\n",
       "      <th>MaxTemp</th>\n",
       "      <th>Rainfall</th>\n",
       "      <th>Evaporation</th>\n",
       "      <th>Sunshine</th>\n",
       "      <th>Humidity9am</th>\n",
       "      <th>Humidity3pm</th>\n",
       "      <th>Pressure9am</th>\n",
       "      <th>Pressure3pm</th>\n",
       "      <th>Cloud9am</th>\n",
       "      <th>Cloud3pm</th>\n",
       "      <th>Temp9am</th>\n",
       "      <th>Temp3pm</th>\n",
       "      <th>RainToday_Yes</th>\n",
       "      <th>RainTomorrow_Yes</th>\n",
       "    </tr>\n",
       "  </thead>\n",
       "  <tbody>\n",
       "    <tr>\n",
       "      <th>MinTemp</th>\n",
       "      <td>1.000000</td>\n",
       "      <td>0.770701</td>\n",
       "      <td>0.025066</td>\n",
       "      <td>0.567623</td>\n",
       "      <td>-0.062959</td>\n",
       "      <td>0.052362</td>\n",
       "      <td>0.270944</td>\n",
       "      <td>-0.393024</td>\n",
       "      <td>-0.355764</td>\n",
       "      <td>0.236288</td>\n",
       "      <td>0.163519</td>\n",
       "      <td>0.938814</td>\n",
       "      <td>0.752410</td>\n",
       "      <td>0.018690</td>\n",
       "      <td>0.079962</td>\n",
       "    </tr>\n",
       "    <tr>\n",
       "      <th>MaxTemp</th>\n",
       "      <td>0.770701</td>\n",
       "      <td>1.000000</td>\n",
       "      <td>-0.193668</td>\n",
       "      <td>0.509060</td>\n",
       "      <td>0.325107</td>\n",
       "      <td>-0.186875</td>\n",
       "      <td>-0.152310</td>\n",
       "      <td>-0.388533</td>\n",
       "      <td>-0.424653</td>\n",
       "      <td>-0.087381</td>\n",
       "      <td>-0.099167</td>\n",
       "      <td>0.858986</td>\n",
       "      <td>0.960026</td>\n",
       "      <td>-0.188334</td>\n",
       "      <td>-0.149269</td>\n",
       "    </tr>\n",
       "    <tr>\n",
       "      <th>Rainfall</th>\n",
       "      <td>0.025066</td>\n",
       "      <td>-0.193668</td>\n",
       "      <td>1.000000</td>\n",
       "      <td>-0.244553</td>\n",
       "      <td>-0.382609</td>\n",
       "      <td>0.424108</td>\n",
       "      <td>0.359238</td>\n",
       "      <td>-0.004363</td>\n",
       "      <td>0.057014</td>\n",
       "      <td>0.333380</td>\n",
       "      <td>0.268505</td>\n",
       "      <td>-0.073746</td>\n",
       "      <td>-0.194529</td>\n",
       "      <td>0.958138</td>\n",
       "      <td>0.357003</td>\n",
       "    </tr>\n",
       "    <tr>\n",
       "      <th>Evaporation</th>\n",
       "      <td>0.567623</td>\n",
       "      <td>0.509060</td>\n",
       "      <td>-0.244553</td>\n",
       "      <td>1.000000</td>\n",
       "      <td>0.174467</td>\n",
       "      <td>-0.394166</td>\n",
       "      <td>-0.101849</td>\n",
       "      <td>-0.345700</td>\n",
       "      <td>-0.300285</td>\n",
       "      <td>-0.037598</td>\n",
       "      <td>-0.037739</td>\n",
       "      <td>0.605348</td>\n",
       "      <td>0.473879</td>\n",
       "      <td>-0.228791</td>\n",
       "      <td>-0.064301</td>\n",
       "    </tr>\n",
       "    <tr>\n",
       "      <th>Sunshine</th>\n",
       "      <td>-0.062959</td>\n",
       "      <td>0.325107</td>\n",
       "      <td>-0.382609</td>\n",
       "      <td>0.174467</td>\n",
       "      <td>1.000000</td>\n",
       "      <td>-0.489019</td>\n",
       "      <td>-0.582792</td>\n",
       "      <td>-0.046391</td>\n",
       "      <td>-0.094322</td>\n",
       "      <td>-0.660555</td>\n",
       "      <td>-0.676397</td>\n",
       "      <td>0.114663</td>\n",
       "      <td>0.343563</td>\n",
       "      <td>-0.367080</td>\n",
       "      <td>-0.521637</td>\n",
       "    </tr>\n",
       "    <tr>\n",
       "      <th>Humidity9am</th>\n",
       "      <td>0.052362</td>\n",
       "      <td>-0.186875</td>\n",
       "      <td>0.424108</td>\n",
       "      <td>-0.394166</td>\n",
       "      <td>-0.489019</td>\n",
       "      <td>1.000000</td>\n",
       "      <td>0.658120</td>\n",
       "      <td>0.263146</td>\n",
       "      <td>0.251304</td>\n",
       "      <td>0.423560</td>\n",
       "      <td>0.331734</td>\n",
       "      <td>-0.147977</td>\n",
       "      <td>-0.157149</td>\n",
       "      <td>0.400603</td>\n",
       "      <td>0.329011</td>\n",
       "    </tr>\n",
       "    <tr>\n",
       "      <th>Humidity3pm</th>\n",
       "      <td>0.270944</td>\n",
       "      <td>-0.152310</td>\n",
       "      <td>0.359238</td>\n",
       "      <td>-0.101849</td>\n",
       "      <td>-0.582792</td>\n",
       "      <td>0.658120</td>\n",
       "      <td>1.000000</td>\n",
       "      <td>0.154352</td>\n",
       "      <td>0.183056</td>\n",
       "      <td>0.453697</td>\n",
       "      <td>0.471684</td>\n",
       "      <td>0.128479</td>\n",
       "      <td>-0.213727</td>\n",
       "      <td>0.342936</td>\n",
       "      <td>0.471250</td>\n",
       "    </tr>\n",
       "    <tr>\n",
       "      <th>Pressure9am</th>\n",
       "      <td>-0.393024</td>\n",
       "      <td>-0.388533</td>\n",
       "      <td>-0.004363</td>\n",
       "      <td>-0.345700</td>\n",
       "      <td>-0.046391</td>\n",
       "      <td>0.263146</td>\n",
       "      <td>0.154352</td>\n",
       "      <td>1.000000</td>\n",
       "      <td>0.960460</td>\n",
       "      <td>-0.011072</td>\n",
       "      <td>-0.040115</td>\n",
       "      <td>-0.418943</td>\n",
       "      <td>-0.345926</td>\n",
       "      <td>-0.000113</td>\n",
       "      <td>-0.032465</td>\n",
       "    </tr>\n",
       "    <tr>\n",
       "      <th>Pressure3pm</th>\n",
       "      <td>-0.355764</td>\n",
       "      <td>-0.424653</td>\n",
       "      <td>0.057014</td>\n",
       "      <td>-0.300285</td>\n",
       "      <td>-0.094322</td>\n",
       "      <td>0.251304</td>\n",
       "      <td>0.183056</td>\n",
       "      <td>0.960460</td>\n",
       "      <td>1.000000</td>\n",
       "      <td>0.018972</td>\n",
       "      <td>-0.002903</td>\n",
       "      <td>-0.404472</td>\n",
       "      <td>-0.392218</td>\n",
       "      <td>0.056978</td>\n",
       "      <td>0.010977</td>\n",
       "    </tr>\n",
       "    <tr>\n",
       "      <th>Cloud9am</th>\n",
       "      <td>0.236288</td>\n",
       "      <td>-0.087381</td>\n",
       "      <td>0.333380</td>\n",
       "      <td>-0.037598</td>\n",
       "      <td>-0.660555</td>\n",
       "      <td>0.423560</td>\n",
       "      <td>0.453697</td>\n",
       "      <td>-0.011072</td>\n",
       "      <td>0.018972</td>\n",
       "      <td>1.000000</td>\n",
       "      <td>0.608995</td>\n",
       "      <td>0.088428</td>\n",
       "      <td>-0.089334</td>\n",
       "      <td>0.316502</td>\n",
       "      <td>0.329525</td>\n",
       "    </tr>\n",
       "    <tr>\n",
       "      <th>Cloud3pm</th>\n",
       "      <td>0.163519</td>\n",
       "      <td>-0.099167</td>\n",
       "      <td>0.268505</td>\n",
       "      <td>-0.037739</td>\n",
       "      <td>-0.676397</td>\n",
       "      <td>0.331734</td>\n",
       "      <td>0.471684</td>\n",
       "      <td>-0.040115</td>\n",
       "      <td>-0.002903</td>\n",
       "      <td>0.608995</td>\n",
       "      <td>1.000000</td>\n",
       "      <td>0.067630</td>\n",
       "      <td>-0.145863</td>\n",
       "      <td>0.260599</td>\n",
       "      <td>0.413217</td>\n",
       "    </tr>\n",
       "    <tr>\n",
       "      <th>Temp9am</th>\n",
       "      <td>0.938814</td>\n",
       "      <td>0.858986</td>\n",
       "      <td>-0.073746</td>\n",
       "      <td>0.605348</td>\n",
       "      <td>0.114663</td>\n",
       "      <td>-0.147977</td>\n",
       "      <td>0.128479</td>\n",
       "      <td>-0.418943</td>\n",
       "      <td>-0.404472</td>\n",
       "      <td>0.088428</td>\n",
       "      <td>0.067630</td>\n",
       "      <td>1.000000</td>\n",
       "      <td>0.828669</td>\n",
       "      <td>-0.075069</td>\n",
       "      <td>-0.000721</td>\n",
       "    </tr>\n",
       "    <tr>\n",
       "      <th>Temp3pm</th>\n",
       "      <td>0.752410</td>\n",
       "      <td>0.960026</td>\n",
       "      <td>-0.194529</td>\n",
       "      <td>0.473879</td>\n",
       "      <td>0.343563</td>\n",
       "      <td>-0.157149</td>\n",
       "      <td>-0.213727</td>\n",
       "      <td>-0.345926</td>\n",
       "      <td>-0.392218</td>\n",
       "      <td>-0.089334</td>\n",
       "      <td>-0.145863</td>\n",
       "      <td>0.828669</td>\n",
       "      <td>1.000000</td>\n",
       "      <td>-0.189134</td>\n",
       "      <td>-0.188951</td>\n",
       "    </tr>\n",
       "    <tr>\n",
       "      <th>RainToday_Yes</th>\n",
       "      <td>0.018690</td>\n",
       "      <td>-0.188334</td>\n",
       "      <td>0.958138</td>\n",
       "      <td>-0.228791</td>\n",
       "      <td>-0.367080</td>\n",
       "      <td>0.400603</td>\n",
       "      <td>0.342936</td>\n",
       "      <td>-0.000113</td>\n",
       "      <td>0.056978</td>\n",
       "      <td>0.316502</td>\n",
       "      <td>0.260599</td>\n",
       "      <td>-0.075069</td>\n",
       "      <td>-0.189134</td>\n",
       "      <td>1.000000</td>\n",
       "      <td>0.340894</td>\n",
       "    </tr>\n",
       "    <tr>\n",
       "      <th>RainTomorrow_Yes</th>\n",
       "      <td>0.079962</td>\n",
       "      <td>-0.149269</td>\n",
       "      <td>0.357003</td>\n",
       "      <td>-0.064301</td>\n",
       "      <td>-0.521637</td>\n",
       "      <td>0.329011</td>\n",
       "      <td>0.471250</td>\n",
       "      <td>-0.032465</td>\n",
       "      <td>0.010977</td>\n",
       "      <td>0.329525</td>\n",
       "      <td>0.413217</td>\n",
       "      <td>-0.000721</td>\n",
       "      <td>-0.188951</td>\n",
       "      <td>0.340894</td>\n",
       "      <td>1.000000</td>\n",
       "    </tr>\n",
       "  </tbody>\n",
       "</table>\n",
       "</div>"
      ],
      "text/plain": [
       "                   MinTemp   MaxTemp  Rainfall  Evaporation  Sunshine  \\\n",
       "MinTemp           1.000000  0.770701  0.025066     0.567623 -0.062959   \n",
       "MaxTemp           0.770701  1.000000 -0.193668     0.509060  0.325107   \n",
       "Rainfall          0.025066 -0.193668  1.000000    -0.244553 -0.382609   \n",
       "Evaporation       0.567623  0.509060 -0.244553     1.000000  0.174467   \n",
       "Sunshine         -0.062959  0.325107 -0.382609     0.174467  1.000000   \n",
       "Humidity9am       0.052362 -0.186875  0.424108    -0.394166 -0.489019   \n",
       "Humidity3pm       0.270944 -0.152310  0.359238    -0.101849 -0.582792   \n",
       "Pressure9am      -0.393024 -0.388533 -0.004363    -0.345700 -0.046391   \n",
       "Pressure3pm      -0.355764 -0.424653  0.057014    -0.300285 -0.094322   \n",
       "Cloud9am          0.236288 -0.087381  0.333380    -0.037598 -0.660555   \n",
       "Cloud3pm          0.163519 -0.099167  0.268505    -0.037739 -0.676397   \n",
       "Temp9am           0.938814  0.858986 -0.073746     0.605348  0.114663   \n",
       "Temp3pm           0.752410  0.960026 -0.194529     0.473879  0.343563   \n",
       "RainToday_Yes     0.018690 -0.188334  0.958138    -0.228791 -0.367080   \n",
       "RainTomorrow_Yes  0.079962 -0.149269  0.357003    -0.064301 -0.521637   \n",
       "\n",
       "                  Humidity9am  Humidity3pm  Pressure9am  Pressure3pm  \\\n",
       "MinTemp              0.052362     0.270944    -0.393024    -0.355764   \n",
       "MaxTemp             -0.186875    -0.152310    -0.388533    -0.424653   \n",
       "Rainfall             0.424108     0.359238    -0.004363     0.057014   \n",
       "Evaporation         -0.394166    -0.101849    -0.345700    -0.300285   \n",
       "Sunshine            -0.489019    -0.582792    -0.046391    -0.094322   \n",
       "Humidity9am          1.000000     0.658120     0.263146     0.251304   \n",
       "Humidity3pm          0.658120     1.000000     0.154352     0.183056   \n",
       "Pressure9am          0.263146     0.154352     1.000000     0.960460   \n",
       "Pressure3pm          0.251304     0.183056     0.960460     1.000000   \n",
       "Cloud9am             0.423560     0.453697    -0.011072     0.018972   \n",
       "Cloud3pm             0.331734     0.471684    -0.040115    -0.002903   \n",
       "Temp9am             -0.147977     0.128479    -0.418943    -0.404472   \n",
       "Temp3pm             -0.157149    -0.213727    -0.345926    -0.392218   \n",
       "RainToday_Yes        0.400603     0.342936    -0.000113     0.056978   \n",
       "RainTomorrow_Yes     0.329011     0.471250    -0.032465     0.010977   \n",
       "\n",
       "                  Cloud9am  Cloud3pm   Temp9am   Temp3pm  RainToday_Yes  \\\n",
       "MinTemp           0.236288  0.163519  0.938814  0.752410       0.018690   \n",
       "MaxTemp          -0.087381 -0.099167  0.858986  0.960026      -0.188334   \n",
       "Rainfall          0.333380  0.268505 -0.073746 -0.194529       0.958138   \n",
       "Evaporation      -0.037598 -0.037739  0.605348  0.473879      -0.228791   \n",
       "Sunshine         -0.660555 -0.676397  0.114663  0.343563      -0.367080   \n",
       "Humidity9am       0.423560  0.331734 -0.147977 -0.157149       0.400603   \n",
       "Humidity3pm       0.453697  0.471684  0.128479 -0.213727       0.342936   \n",
       "Pressure9am      -0.011072 -0.040115 -0.418943 -0.345926      -0.000113   \n",
       "Pressure3pm       0.018972 -0.002903 -0.404472 -0.392218       0.056978   \n",
       "Cloud9am          1.000000  0.608995  0.088428 -0.089334       0.316502   \n",
       "Cloud3pm          0.608995  1.000000  0.067630 -0.145863       0.260599   \n",
       "Temp9am           0.088428  0.067630  1.000000  0.828669      -0.075069   \n",
       "Temp3pm          -0.089334 -0.145863  0.828669  1.000000      -0.189134   \n",
       "RainToday_Yes     0.316502  0.260599 -0.075069 -0.189134       1.000000   \n",
       "RainTomorrow_Yes  0.329525  0.413217 -0.000721 -0.188951       0.340894   \n",
       "\n",
       "                  RainTomorrow_Yes  \n",
       "MinTemp                   0.079962  \n",
       "MaxTemp                  -0.149269  \n",
       "Rainfall                  0.357003  \n",
       "Evaporation              -0.064301  \n",
       "Sunshine                 -0.521637  \n",
       "Humidity9am               0.329011  \n",
       "Humidity3pm               0.471250  \n",
       "Pressure9am              -0.032465  \n",
       "Pressure3pm               0.010977  \n",
       "Cloud9am                  0.329525  \n",
       "Cloud3pm                  0.413217  \n",
       "Temp9am                  -0.000721  \n",
       "Temp3pm                  -0.188951  \n",
       "RainToday_Yes             0.340894  \n",
       "RainTomorrow_Yes          1.000000  "
      ]
     },
     "execution_count": 75,
     "metadata": {},
     "output_type": "execute_result"
    }
   ],
   "source": [
    "# checking corelations\n",
    "df.corr()"
   ]
  },
  {
   "cell_type": "markdown",
   "id": "87d54062",
   "metadata": {},
   "source": [
    "As from the above table we can see  MaxTemp and Temp3pm have very high corelation but Temp3pm have better corelation with Dependent variable so we are going to drop MaxTemp.\n",
    "\n",
    "Similarly Temp9am got very high corelation with MinTemp but MinTemp has better corelation with the dependent variable so we are going to drop Temp9am.\n",
    "\n",
    "Lastly Rainfall have very high corelation with RainToday_yes but Rainfall has better corelation with the dependent variable so we are going to drop RainToday_yes."
   ]
  },
  {
   "cell_type": "code",
   "execution_count": 77,
   "id": "f9944b96",
   "metadata": {},
   "outputs": [],
   "source": [
    "df=df.drop(['MaxTemp','Temp9am','RainToday_Yes'],axis=1)"
   ]
  },
  {
   "cell_type": "code",
   "execution_count": 78,
   "id": "bb6c7fc5",
   "metadata": {},
   "outputs": [
    {
     "data": {
      "text/html": [
       "<div>\n",
       "<style scoped>\n",
       "    .dataframe tbody tr th:only-of-type {\n",
       "        vertical-align: middle;\n",
       "    }\n",
       "\n",
       "    .dataframe tbody tr th {\n",
       "        vertical-align: top;\n",
       "    }\n",
       "\n",
       "    .dataframe thead th {\n",
       "        text-align: right;\n",
       "    }\n",
       "</style>\n",
       "<table border=\"1\" class=\"dataframe\">\n",
       "  <thead>\n",
       "    <tr style=\"text-align: right;\">\n",
       "      <th></th>\n",
       "      <th>MinTemp</th>\n",
       "      <th>Rainfall</th>\n",
       "      <th>Evaporation</th>\n",
       "      <th>Sunshine</th>\n",
       "      <th>Humidity9am</th>\n",
       "      <th>Humidity3pm</th>\n",
       "      <th>Pressure9am</th>\n",
       "      <th>Pressure3pm</th>\n",
       "      <th>Cloud9am</th>\n",
       "      <th>Cloud3pm</th>\n",
       "      <th>Temp3pm</th>\n",
       "      <th>RainTomorrow_Yes</th>\n",
       "    </tr>\n",
       "  </thead>\n",
       "  <tbody>\n",
       "    <tr>\n",
       "      <th>0</th>\n",
       "      <td>19.5</td>\n",
       "      <td>1.0</td>\n",
       "      <td>6.200000</td>\n",
       "      <td>0.0</td>\n",
       "      <td>92.0</td>\n",
       "      <td>84.0</td>\n",
       "      <td>1017.6</td>\n",
       "      <td>1017.4</td>\n",
       "      <td>8.0</td>\n",
       "      <td>8.0</td>\n",
       "      <td>20.9</td>\n",
       "      <td>1</td>\n",
       "    </tr>\n",
       "    <tr>\n",
       "      <th>1</th>\n",
       "      <td>19.5</td>\n",
       "      <td>1.0</td>\n",
       "      <td>3.400000</td>\n",
       "      <td>2.7</td>\n",
       "      <td>83.0</td>\n",
       "      <td>73.0</td>\n",
       "      <td>1017.9</td>\n",
       "      <td>1016.4</td>\n",
       "      <td>7.0</td>\n",
       "      <td>7.0</td>\n",
       "      <td>24.8</td>\n",
       "      <td>1</td>\n",
       "    </tr>\n",
       "    <tr>\n",
       "      <th>2</th>\n",
       "      <td>21.6</td>\n",
       "      <td>1.0</td>\n",
       "      <td>2.400000</td>\n",
       "      <td>0.1</td>\n",
       "      <td>88.0</td>\n",
       "      <td>86.0</td>\n",
       "      <td>1016.7</td>\n",
       "      <td>1015.6</td>\n",
       "      <td>7.0</td>\n",
       "      <td>8.0</td>\n",
       "      <td>23.0</td>\n",
       "      <td>1</td>\n",
       "    </tr>\n",
       "    <tr>\n",
       "      <th>3</th>\n",
       "      <td>20.2</td>\n",
       "      <td>1.0</td>\n",
       "      <td>2.200000</td>\n",
       "      <td>0.0</td>\n",
       "      <td>83.0</td>\n",
       "      <td>90.0</td>\n",
       "      <td>1014.2</td>\n",
       "      <td>1011.8</td>\n",
       "      <td>8.0</td>\n",
       "      <td>8.0</td>\n",
       "      <td>20.9</td>\n",
       "      <td>1</td>\n",
       "    </tr>\n",
       "    <tr>\n",
       "      <th>4</th>\n",
       "      <td>19.7</td>\n",
       "      <td>1.0</td>\n",
       "      <td>5.187432</td>\n",
       "      <td>0.0</td>\n",
       "      <td>88.0</td>\n",
       "      <td>74.0</td>\n",
       "      <td>1008.3</td>\n",
       "      <td>1004.8</td>\n",
       "      <td>8.0</td>\n",
       "      <td>8.0</td>\n",
       "      <td>25.5</td>\n",
       "      <td>1</td>\n",
       "    </tr>\n",
       "  </tbody>\n",
       "</table>\n",
       "</div>"
      ],
      "text/plain": [
       "   MinTemp  Rainfall  Evaporation  Sunshine  Humidity9am  Humidity3pm  \\\n",
       "0     19.5       1.0     6.200000       0.0         92.0         84.0   \n",
       "1     19.5       1.0     3.400000       2.7         83.0         73.0   \n",
       "2     21.6       1.0     2.400000       0.1         88.0         86.0   \n",
       "3     20.2       1.0     2.200000       0.0         83.0         90.0   \n",
       "4     19.7       1.0     5.187432       0.0         88.0         74.0   \n",
       "\n",
       "   Pressure9am  Pressure3pm  Cloud9am  Cloud3pm  Temp3pm  RainTomorrow_Yes  \n",
       "0       1017.6       1017.4       8.0       8.0     20.9                 1  \n",
       "1       1017.9       1016.4       7.0       7.0     24.8                 1  \n",
       "2       1016.7       1015.6       7.0       8.0     23.0                 1  \n",
       "3       1014.2       1011.8       8.0       8.0     20.9                 1  \n",
       "4       1008.3       1004.8       8.0       8.0     25.5                 1  "
      ]
     },
     "execution_count": 78,
     "metadata": {},
     "output_type": "execute_result"
    }
   ],
   "source": [
    "df.head()"
   ]
  },
  {
   "cell_type": "code",
   "execution_count": 79,
   "id": "16b5a63f",
   "metadata": {},
   "outputs": [],
   "source": [
    "df.to_csv('preprocessed rain data')"
   ]
  },
  {
   "cell_type": "markdown",
   "id": "4d01e3e6",
   "metadata": {},
   "source": [
    "### Creating dependent and independent varisbles"
   ]
  },
  {
   "cell_type": "code",
   "execution_count": 81,
   "id": "6de2ca1c",
   "metadata": {},
   "outputs": [],
   "source": [
    "X=df.drop('RainTomorrow_Yes',axis=1)\n",
    "y=df['RainTomorrow_Yes']"
   ]
  },
  {
   "cell_type": "markdown",
   "id": "10d289ff",
   "metadata": {},
   "source": [
    "### Train_Test_Split"
   ]
  },
  {
   "cell_type": "code",
   "execution_count": 82,
   "id": "64a4e2c3",
   "metadata": {},
   "outputs": [],
   "source": [
    "from sklearn.model_selection import train_test_split\n",
    "X_train,X_test,y_train,y_test = train_test_split(X,y, test_size=0.2, random_state=42)"
   ]
  },
  {
   "cell_type": "code",
   "execution_count": 83,
   "id": "a6e48330",
   "metadata": {},
   "outputs": [
    {
     "name": "stdout",
     "output_type": "stream",
     "text": [
      "(2669, 11) (668, 11) (2669,) (668,)\n"
     ]
    }
   ],
   "source": [
    "print(X_train.shape,X_test.shape,y_train.shape,y_test.shape)"
   ]
  },
  {
   "cell_type": "markdown",
   "id": "11e28bb3",
   "metadata": {},
   "source": [
    "### All the prerequisite are done time to train the data using different models"
   ]
  },
  {
   "cell_type": "markdown",
   "id": "9143a871",
   "metadata": {},
   "source": [
    "## Logistic Regression"
   ]
  },
  {
   "cell_type": "code",
   "execution_count": 84,
   "id": "6de20c7b",
   "metadata": {},
   "outputs": [
    {
     "name": "stderr",
     "output_type": "stream",
     "text": [
      "/usr/local/lib/python3.10/dist-packages/sklearn/linear_model/_logistic.py:458: ConvergenceWarning: lbfgs failed to converge (status=1):\n",
      "STOP: TOTAL NO. of ITERATIONS REACHED LIMIT.\n",
      "\n",
      "Increase the number of iterations (max_iter) or scale the data as shown in:\n",
      "    https://scikit-learn.org/stable/modules/preprocessing.html\n",
      "Please also refer to the documentation for alternative solver options:\n",
      "    https://scikit-learn.org/stable/modules/linear_model.html#logistic-regression\n",
      "  n_iter_i = _check_optimize_result(\n"
     ]
    },
    {
     "data": {
      "text/html": [
       "<style>#sk-container-id-1 {color: black;background-color: white;}#sk-container-id-1 pre{padding: 0;}#sk-container-id-1 div.sk-toggleable {background-color: white;}#sk-container-id-1 label.sk-toggleable__label {cursor: pointer;display: block;width: 100%;margin-bottom: 0;padding: 0.3em;box-sizing: border-box;text-align: center;}#sk-container-id-1 label.sk-toggleable__label-arrow:before {content: \"▸\";float: left;margin-right: 0.25em;color: #696969;}#sk-container-id-1 label.sk-toggleable__label-arrow:hover:before {color: black;}#sk-container-id-1 div.sk-estimator:hover label.sk-toggleable__label-arrow:before {color: black;}#sk-container-id-1 div.sk-toggleable__content {max-height: 0;max-width: 0;overflow: hidden;text-align: left;background-color: #f0f8ff;}#sk-container-id-1 div.sk-toggleable__content pre {margin: 0.2em;color: black;border-radius: 0.25em;background-color: #f0f8ff;}#sk-container-id-1 input.sk-toggleable__control:checked~div.sk-toggleable__content {max-height: 200px;max-width: 100%;overflow: auto;}#sk-container-id-1 input.sk-toggleable__control:checked~label.sk-toggleable__label-arrow:before {content: \"▾\";}#sk-container-id-1 div.sk-estimator input.sk-toggleable__control:checked~label.sk-toggleable__label {background-color: #d4ebff;}#sk-container-id-1 div.sk-label input.sk-toggleable__control:checked~label.sk-toggleable__label {background-color: #d4ebff;}#sk-container-id-1 input.sk-hidden--visually {border: 0;clip: rect(1px 1px 1px 1px);clip: rect(1px, 1px, 1px, 1px);height: 1px;margin: -1px;overflow: hidden;padding: 0;position: absolute;width: 1px;}#sk-container-id-1 div.sk-estimator {font-family: monospace;background-color: #f0f8ff;border: 1px dotted black;border-radius: 0.25em;box-sizing: border-box;margin-bottom: 0.5em;}#sk-container-id-1 div.sk-estimator:hover {background-color: #d4ebff;}#sk-container-id-1 div.sk-parallel-item::after {content: \"\";width: 100%;border-bottom: 1px solid gray;flex-grow: 1;}#sk-container-id-1 div.sk-label:hover label.sk-toggleable__label {background-color: #d4ebff;}#sk-container-id-1 div.sk-serial::before {content: \"\";position: absolute;border-left: 1px solid gray;box-sizing: border-box;top: 0;bottom: 0;left: 50%;z-index: 0;}#sk-container-id-1 div.sk-serial {display: flex;flex-direction: column;align-items: center;background-color: white;padding-right: 0.2em;padding-left: 0.2em;position: relative;}#sk-container-id-1 div.sk-item {position: relative;z-index: 1;}#sk-container-id-1 div.sk-parallel {display: flex;align-items: stretch;justify-content: center;background-color: white;position: relative;}#sk-container-id-1 div.sk-item::before, #sk-container-id-1 div.sk-parallel-item::before {content: \"\";position: absolute;border-left: 1px solid gray;box-sizing: border-box;top: 0;bottom: 0;left: 50%;z-index: -1;}#sk-container-id-1 div.sk-parallel-item {display: flex;flex-direction: column;z-index: 1;position: relative;background-color: white;}#sk-container-id-1 div.sk-parallel-item:first-child::after {align-self: flex-end;width: 50%;}#sk-container-id-1 div.sk-parallel-item:last-child::after {align-self: flex-start;width: 50%;}#sk-container-id-1 div.sk-parallel-item:only-child::after {width: 0;}#sk-container-id-1 div.sk-dashed-wrapped {border: 1px dashed gray;margin: 0 0.4em 0.5em 0.4em;box-sizing: border-box;padding-bottom: 0.4em;background-color: white;}#sk-container-id-1 div.sk-label label {font-family: monospace;font-weight: bold;display: inline-block;line-height: 1.2em;}#sk-container-id-1 div.sk-label-container {text-align: center;}#sk-container-id-1 div.sk-container {/* jupyter's `normalize.less` sets `[hidden] { display: none; }` but bootstrap.min.css set `[hidden] { display: none !important; }` so we also need the `!important` here to be able to override the default hidden behavior on the sphinx rendered scikit-learn.org. See: https://github.com/scikit-learn/scikit-learn/issues/21755 */display: inline-block !important;position: relative;}#sk-container-id-1 div.sk-text-repr-fallback {display: none;}</style><div id=\"sk-container-id-1\" class=\"sk-top-container\"><div class=\"sk-text-repr-fallback\"><pre>LogisticRegression()</pre><b>In a Jupyter environment, please rerun this cell to show the HTML representation or trust the notebook. <br />On GitHub, the HTML representation is unable to render, please try loading this page with nbviewer.org.</b></div><div class=\"sk-container\" hidden><div class=\"sk-item\"><div class=\"sk-estimator sk-toggleable\"><input class=\"sk-toggleable__control sk-hidden--visually\" id=\"sk-estimator-id-1\" type=\"checkbox\" checked><label for=\"sk-estimator-id-1\" class=\"sk-toggleable__label sk-toggleable__label-arrow\">LogisticRegression</label><div class=\"sk-toggleable__content\"><pre>LogisticRegression()</pre></div></div></div></div></div>"
      ],
      "text/plain": [
       "LogisticRegression()"
      ]
     },
     "execution_count": 84,
     "metadata": {},
     "output_type": "execute_result"
    }
   ],
   "source": [
    "from sklearn.linear_model import LogisticRegression\n",
    "clf_lrs=LogisticRegression()\n",
    "clf_lrs.fit(X_train,y_train)"
   ]
  },
  {
   "cell_type": "code",
   "execution_count": 85,
   "id": "74a048a1",
   "metadata": {},
   "outputs": [
    {
     "name": "stdout",
     "output_type": "stream",
     "text": [
      "Intercept = [0.00253468], Coef = [[-0.12105072  0.22592428  0.04584369 -0.25032329  0.00543359  0.05981462\n",
      "  -0.14364688  0.13930653 -0.1061565   0.16340724  0.11848871]]\n"
     ]
    }
   ],
   "source": [
    "print(f'Intercept = {clf_lrs.intercept_}, Coef = {clf_lrs.coef_}')"
   ]
  },
  {
   "cell_type": "markdown",
   "id": "97113f26",
   "metadata": {},
   "source": [
    "#### Predicting using default threshold value i.e. 0.5"
   ]
  },
  {
   "cell_type": "code",
   "execution_count": 86,
   "id": "da1c3f80",
   "metadata": {},
   "outputs": [],
   "source": [
    "y_pred = clf_lrs.predict(X_test)"
   ]
  },
  {
   "cell_type": "markdown",
   "id": "a952602e",
   "metadata": {},
   "source": [
    "### Model Evaluation\n",
    "As it's a classification problem so we are going to compare all the models using accuracy score."
   ]
  },
  {
   "cell_type": "code",
   "execution_count": 87,
   "id": "a09d52bb",
   "metadata": {},
   "outputs": [],
   "source": [
    "from sklearn.metrics import confusion_matrix,accuracy_score"
   ]
  },
  {
   "cell_type": "code",
   "execution_count": 88,
   "id": "df539329",
   "metadata": {},
   "outputs": [
    {
     "data": {
      "text/plain": [
       "array([[438,  46],\n",
       "       [ 80, 104]])"
      ]
     },
     "execution_count": 88,
     "metadata": {},
     "output_type": "execute_result"
    }
   ],
   "source": [
    "confusion_matrix(y_test,y_pred)"
   ]
  },
  {
   "cell_type": "code",
   "execution_count": 89,
   "id": "b4a5ba34",
   "metadata": {},
   "outputs": [
    {
     "data": {
      "text/plain": [
       "0.811377245508982"
      ]
     },
     "execution_count": 89,
     "metadata": {},
     "output_type": "execute_result"
    }
   ],
   "source": [
    "accuracy_score(y_test,y_pred)"
   ]
  },
  {
   "cell_type": "markdown",
   "id": "d7396c6d",
   "metadata": {},
   "source": [
    "#### Predicting using customize threshold value"
   ]
  },
  {
   "cell_type": "code",
   "execution_count": 122,
   "id": "0e9d40ee",
   "metadata": {},
   "outputs": [],
   "source": [
    "y_pred_cust=(clf_lrs.predict_proba(X_test)[:,1]>=0.7)"
   ]
  },
  {
   "cell_type": "markdown",
   "id": "6799d19b",
   "metadata": {},
   "source": [
    "### Model Evaluation"
   ]
  },
  {
   "cell_type": "code",
   "execution_count": 123,
   "id": "99660543",
   "metadata": {},
   "outputs": [
    {
     "data": {
      "text/plain": [
       "array([[475,   9],\n",
       "       [115,  69]])"
      ]
     },
     "execution_count": 123,
     "metadata": {},
     "output_type": "execute_result"
    }
   ],
   "source": [
    "confusion_matrix(y_test,y_pred_cust)"
   ]
  },
  {
   "cell_type": "code",
   "execution_count": 124,
   "id": "bb09cd9d",
   "metadata": {},
   "outputs": [
    {
     "data": {
      "text/plain": [
       "0.8143712574850299"
      ]
     },
     "execution_count": 124,
     "metadata": {},
     "output_type": "execute_result"
    }
   ],
   "source": [
    "accuracy_score(y_test,y_pred_cust)"
   ]
  },
  {
   "cell_type": "markdown",
   "id": "330f2675",
   "metadata": {},
   "source": [
    "## Linear Discriminant Analysis"
   ]
  },
  {
   "cell_type": "code",
   "execution_count": 125,
   "id": "fca425e6",
   "metadata": {},
   "outputs": [
    {
     "data": {
      "text/html": [
       "<style>#sk-container-id-2 {color: black;background-color: white;}#sk-container-id-2 pre{padding: 0;}#sk-container-id-2 div.sk-toggleable {background-color: white;}#sk-container-id-2 label.sk-toggleable__label {cursor: pointer;display: block;width: 100%;margin-bottom: 0;padding: 0.3em;box-sizing: border-box;text-align: center;}#sk-container-id-2 label.sk-toggleable__label-arrow:before {content: \"▸\";float: left;margin-right: 0.25em;color: #696969;}#sk-container-id-2 label.sk-toggleable__label-arrow:hover:before {color: black;}#sk-container-id-2 div.sk-estimator:hover label.sk-toggleable__label-arrow:before {color: black;}#sk-container-id-2 div.sk-toggleable__content {max-height: 0;max-width: 0;overflow: hidden;text-align: left;background-color: #f0f8ff;}#sk-container-id-2 div.sk-toggleable__content pre {margin: 0.2em;color: black;border-radius: 0.25em;background-color: #f0f8ff;}#sk-container-id-2 input.sk-toggleable__control:checked~div.sk-toggleable__content {max-height: 200px;max-width: 100%;overflow: auto;}#sk-container-id-2 input.sk-toggleable__control:checked~label.sk-toggleable__label-arrow:before {content: \"▾\";}#sk-container-id-2 div.sk-estimator input.sk-toggleable__control:checked~label.sk-toggleable__label {background-color: #d4ebff;}#sk-container-id-2 div.sk-label input.sk-toggleable__control:checked~label.sk-toggleable__label {background-color: #d4ebff;}#sk-container-id-2 input.sk-hidden--visually {border: 0;clip: rect(1px 1px 1px 1px);clip: rect(1px, 1px, 1px, 1px);height: 1px;margin: -1px;overflow: hidden;padding: 0;position: absolute;width: 1px;}#sk-container-id-2 div.sk-estimator {font-family: monospace;background-color: #f0f8ff;border: 1px dotted black;border-radius: 0.25em;box-sizing: border-box;margin-bottom: 0.5em;}#sk-container-id-2 div.sk-estimator:hover {background-color: #d4ebff;}#sk-container-id-2 div.sk-parallel-item::after {content: \"\";width: 100%;border-bottom: 1px solid gray;flex-grow: 1;}#sk-container-id-2 div.sk-label:hover label.sk-toggleable__label {background-color: #d4ebff;}#sk-container-id-2 div.sk-serial::before {content: \"\";position: absolute;border-left: 1px solid gray;box-sizing: border-box;top: 0;bottom: 0;left: 50%;z-index: 0;}#sk-container-id-2 div.sk-serial {display: flex;flex-direction: column;align-items: center;background-color: white;padding-right: 0.2em;padding-left: 0.2em;position: relative;}#sk-container-id-2 div.sk-item {position: relative;z-index: 1;}#sk-container-id-2 div.sk-parallel {display: flex;align-items: stretch;justify-content: center;background-color: white;position: relative;}#sk-container-id-2 div.sk-item::before, #sk-container-id-2 div.sk-parallel-item::before {content: \"\";position: absolute;border-left: 1px solid gray;box-sizing: border-box;top: 0;bottom: 0;left: 50%;z-index: -1;}#sk-container-id-2 div.sk-parallel-item {display: flex;flex-direction: column;z-index: 1;position: relative;background-color: white;}#sk-container-id-2 div.sk-parallel-item:first-child::after {align-self: flex-end;width: 50%;}#sk-container-id-2 div.sk-parallel-item:last-child::after {align-self: flex-start;width: 50%;}#sk-container-id-2 div.sk-parallel-item:only-child::after {width: 0;}#sk-container-id-2 div.sk-dashed-wrapped {border: 1px dashed gray;margin: 0 0.4em 0.5em 0.4em;box-sizing: border-box;padding-bottom: 0.4em;background-color: white;}#sk-container-id-2 div.sk-label label {font-family: monospace;font-weight: bold;display: inline-block;line-height: 1.2em;}#sk-container-id-2 div.sk-label-container {text-align: center;}#sk-container-id-2 div.sk-container {/* jupyter's `normalize.less` sets `[hidden] { display: none; }` but bootstrap.min.css set `[hidden] { display: none !important; }` so we also need the `!important` here to be able to override the default hidden behavior on the sphinx rendered scikit-learn.org. See: https://github.com/scikit-learn/scikit-learn/issues/21755 */display: inline-block !important;position: relative;}#sk-container-id-2 div.sk-text-repr-fallback {display: none;}</style><div id=\"sk-container-id-2\" class=\"sk-top-container\"><div class=\"sk-text-repr-fallback\"><pre>LinearDiscriminantAnalysis()</pre><b>In a Jupyter environment, please rerun this cell to show the HTML representation or trust the notebook. <br />On GitHub, the HTML representation is unable to render, please try loading this page with nbviewer.org.</b></div><div class=\"sk-container\" hidden><div class=\"sk-item\"><div class=\"sk-estimator sk-toggleable\"><input class=\"sk-toggleable__control sk-hidden--visually\" id=\"sk-estimator-id-2\" type=\"checkbox\" checked><label for=\"sk-estimator-id-2\" class=\"sk-toggleable__label sk-toggleable__label-arrow\">LinearDiscriminantAnalysis</label><div class=\"sk-toggleable__content\"><pre>LinearDiscriminantAnalysis()</pre></div></div></div></div></div>"
      ],
      "text/plain": [
       "LinearDiscriminantAnalysis()"
      ]
     },
     "execution_count": 125,
     "metadata": {},
     "output_type": "execute_result"
    }
   ],
   "source": [
    "from sklearn.discriminant_analysis import LinearDiscriminantAnalysis\n",
    "clf_lda=LinearDiscriminantAnalysis()\n",
    "clf_lda.fit(X_train,y_train)"
   ]
  },
  {
   "cell_type": "markdown",
   "id": "5699a7b9",
   "metadata": {},
   "source": [
    "### Model Evaluation\n"
   ]
  },
  {
   "cell_type": "code",
   "execution_count": 126,
   "id": "d262e5f7",
   "metadata": {},
   "outputs": [
    {
     "data": {
      "text/plain": [
       "array([[443,  41],\n",
       "       [ 79, 105]])"
      ]
     },
     "execution_count": 126,
     "metadata": {},
     "output_type": "execute_result"
    }
   ],
   "source": [
    "confusion_matrix(y_test,clf_lda.predict(X_test))"
   ]
  },
  {
   "cell_type": "code",
   "execution_count": 127,
   "id": "cbdd2b74",
   "metadata": {},
   "outputs": [
    {
     "data": {
      "text/plain": [
       "0.8203592814371258"
      ]
     },
     "execution_count": 127,
     "metadata": {},
     "output_type": "execute_result"
    }
   ],
   "source": [
    "accuracy_score(y_test,clf_lda.predict(X_test)) "
   ]
  },
  {
   "cell_type": "markdown",
   "id": "42ff8d44",
   "metadata": {},
   "source": [
    "## KNN "
   ]
  },
  {
   "cell_type": "code",
   "execution_count": 219,
   "id": "2e494457",
   "metadata": {},
   "outputs": [],
   "source": [
    "#standardizing independent variables\n",
    "from sklearn import preprocessing\n",
    "#standerdizing train independent variables\n",
    "scaler1 = preprocessing.StandardScaler().fit(X_train)\n",
    "X_train_s=scaler1.transform(X_train)\n",
    "#standerdizing test independent variables\n",
    "scaler2 = preprocessing.StandardScaler().fit(X_test)\n",
    "X_test_s = scaler2.transform(X_test)"
   ]
  },
  {
   "cell_type": "code",
   "execution_count": 220,
   "id": "dcaa6309",
   "metadata": {},
   "outputs": [],
   "source": [
    "from sklearn.neighbors import KNeighborsClassifier\n",
    "from sklearn.model_selection import GridSearchCV\n",
    "clf_knn=KNeighborsClassifier()"
   ]
  },
  {
   "cell_type": "code",
   "execution_count": 228,
   "id": "c8e4255c",
   "metadata": {},
   "outputs": [],
   "source": [
    "params = {'n_neighbors':range(3,11,2)}"
   ]
  },
  {
   "cell_type": "code",
   "execution_count": 229,
   "id": "a09beb11",
   "metadata": {},
   "outputs": [],
   "source": [
    "knn_grid = GridSearchCV(clf_knn,params,n_jobs=-1,cv=5,scoring='accuracy')"
   ]
  },
  {
   "cell_type": "code",
   "execution_count": 230,
   "id": "9e456bf4",
   "metadata": {},
   "outputs": [
    {
     "data": {
      "text/html": [
       "<style>#sk-container-id-23 {color: black;background-color: white;}#sk-container-id-23 pre{padding: 0;}#sk-container-id-23 div.sk-toggleable {background-color: white;}#sk-container-id-23 label.sk-toggleable__label {cursor: pointer;display: block;width: 100%;margin-bottom: 0;padding: 0.3em;box-sizing: border-box;text-align: center;}#sk-container-id-23 label.sk-toggleable__label-arrow:before {content: \"▸\";float: left;margin-right: 0.25em;color: #696969;}#sk-container-id-23 label.sk-toggleable__label-arrow:hover:before {color: black;}#sk-container-id-23 div.sk-estimator:hover label.sk-toggleable__label-arrow:before {color: black;}#sk-container-id-23 div.sk-toggleable__content {max-height: 0;max-width: 0;overflow: hidden;text-align: left;background-color: #f0f8ff;}#sk-container-id-23 div.sk-toggleable__content pre {margin: 0.2em;color: black;border-radius: 0.25em;background-color: #f0f8ff;}#sk-container-id-23 input.sk-toggleable__control:checked~div.sk-toggleable__content {max-height: 200px;max-width: 100%;overflow: auto;}#sk-container-id-23 input.sk-toggleable__control:checked~label.sk-toggleable__label-arrow:before {content: \"▾\";}#sk-container-id-23 div.sk-estimator input.sk-toggleable__control:checked~label.sk-toggleable__label {background-color: #d4ebff;}#sk-container-id-23 div.sk-label input.sk-toggleable__control:checked~label.sk-toggleable__label {background-color: #d4ebff;}#sk-container-id-23 input.sk-hidden--visually {border: 0;clip: rect(1px 1px 1px 1px);clip: rect(1px, 1px, 1px, 1px);height: 1px;margin: -1px;overflow: hidden;padding: 0;position: absolute;width: 1px;}#sk-container-id-23 div.sk-estimator {font-family: monospace;background-color: #f0f8ff;border: 1px dotted black;border-radius: 0.25em;box-sizing: border-box;margin-bottom: 0.5em;}#sk-container-id-23 div.sk-estimator:hover {background-color: #d4ebff;}#sk-container-id-23 div.sk-parallel-item::after {content: \"\";width: 100%;border-bottom: 1px solid gray;flex-grow: 1;}#sk-container-id-23 div.sk-label:hover label.sk-toggleable__label {background-color: #d4ebff;}#sk-container-id-23 div.sk-serial::before {content: \"\";position: absolute;border-left: 1px solid gray;box-sizing: border-box;top: 0;bottom: 0;left: 50%;z-index: 0;}#sk-container-id-23 div.sk-serial {display: flex;flex-direction: column;align-items: center;background-color: white;padding-right: 0.2em;padding-left: 0.2em;position: relative;}#sk-container-id-23 div.sk-item {position: relative;z-index: 1;}#sk-container-id-23 div.sk-parallel {display: flex;align-items: stretch;justify-content: center;background-color: white;position: relative;}#sk-container-id-23 div.sk-item::before, #sk-container-id-23 div.sk-parallel-item::before {content: \"\";position: absolute;border-left: 1px solid gray;box-sizing: border-box;top: 0;bottom: 0;left: 50%;z-index: -1;}#sk-container-id-23 div.sk-parallel-item {display: flex;flex-direction: column;z-index: 1;position: relative;background-color: white;}#sk-container-id-23 div.sk-parallel-item:first-child::after {align-self: flex-end;width: 50%;}#sk-container-id-23 div.sk-parallel-item:last-child::after {align-self: flex-start;width: 50%;}#sk-container-id-23 div.sk-parallel-item:only-child::after {width: 0;}#sk-container-id-23 div.sk-dashed-wrapped {border: 1px dashed gray;margin: 0 0.4em 0.5em 0.4em;box-sizing: border-box;padding-bottom: 0.4em;background-color: white;}#sk-container-id-23 div.sk-label label {font-family: monospace;font-weight: bold;display: inline-block;line-height: 1.2em;}#sk-container-id-23 div.sk-label-container {text-align: center;}#sk-container-id-23 div.sk-container {/* jupyter's `normalize.less` sets `[hidden] { display: none; }` but bootstrap.min.css set `[hidden] { display: none !important; }` so we also need the `!important` here to be able to override the default hidden behavior on the sphinx rendered scikit-learn.org. See: https://github.com/scikit-learn/scikit-learn/issues/21755 */display: inline-block !important;position: relative;}#sk-container-id-23 div.sk-text-repr-fallback {display: none;}</style><div id=\"sk-container-id-23\" class=\"sk-top-container\"><div class=\"sk-text-repr-fallback\"><pre>GridSearchCV(cv=5, estimator=KNeighborsClassifier(), n_jobs=-1,\n",
       "             param_grid={&#x27;n_neighbors&#x27;: range(3, 11, 2)}, scoring=&#x27;accuracy&#x27;)</pre><b>In a Jupyter environment, please rerun this cell to show the HTML representation or trust the notebook. <br />On GitHub, the HTML representation is unable to render, please try loading this page with nbviewer.org.</b></div><div class=\"sk-container\" hidden><div class=\"sk-item sk-dashed-wrapped\"><div class=\"sk-label-container\"><div class=\"sk-label sk-toggleable\"><input class=\"sk-toggleable__control sk-hidden--visually\" id=\"sk-estimator-id-41\" type=\"checkbox\" ><label for=\"sk-estimator-id-41\" class=\"sk-toggleable__label sk-toggleable__label-arrow\">GridSearchCV</label><div class=\"sk-toggleable__content\"><pre>GridSearchCV(cv=5, estimator=KNeighborsClassifier(), n_jobs=-1,\n",
       "             param_grid={&#x27;n_neighbors&#x27;: range(3, 11, 2)}, scoring=&#x27;accuracy&#x27;)</pre></div></div></div><div class=\"sk-parallel\"><div class=\"sk-parallel-item\"><div class=\"sk-item\"><div class=\"sk-label-container\"><div class=\"sk-label sk-toggleable\"><input class=\"sk-toggleable__control sk-hidden--visually\" id=\"sk-estimator-id-42\" type=\"checkbox\" ><label for=\"sk-estimator-id-42\" class=\"sk-toggleable__label sk-toggleable__label-arrow\">estimator: KNeighborsClassifier</label><div class=\"sk-toggleable__content\"><pre>KNeighborsClassifier()</pre></div></div></div><div class=\"sk-serial\"><div class=\"sk-item\"><div class=\"sk-estimator sk-toggleable\"><input class=\"sk-toggleable__control sk-hidden--visually\" id=\"sk-estimator-id-43\" type=\"checkbox\" ><label for=\"sk-estimator-id-43\" class=\"sk-toggleable__label sk-toggleable__label-arrow\">KNeighborsClassifier</label><div class=\"sk-toggleable__content\"><pre>KNeighborsClassifier()</pre></div></div></div></div></div></div></div></div></div></div>"
      ],
      "text/plain": [
       "GridSearchCV(cv=5, estimator=KNeighborsClassifier(), n_jobs=-1,\n",
       "             param_grid={'n_neighbors': range(3, 11, 2)}, scoring='accuracy')"
      ]
     },
     "execution_count": 230,
     "metadata": {},
     "output_type": "execute_result"
    }
   ],
   "source": [
    "#training\n",
    "knn_grid.fit(X_train_s,y_train)"
   ]
  },
  {
   "cell_type": "code",
   "execution_count": 231,
   "id": "2ea3da34",
   "metadata": {},
   "outputs": [
    {
     "data": {
      "text/plain": [
       "{'n_neighbors': 9}"
      ]
     },
     "execution_count": 231,
     "metadata": {},
     "output_type": "execute_result"
    }
   ],
   "source": [
    "# finding best parameter\n",
    "knn_grid.best_params_"
   ]
  },
  {
   "cell_type": "code",
   "execution_count": 232,
   "id": "19dd3142",
   "metadata": {},
   "outputs": [],
   "source": [
    "# storing the model\n",
    "clf_knn_best=knn_grid.best_estimator_"
   ]
  },
  {
   "cell_type": "markdown",
   "id": "10a32cd8",
   "metadata": {},
   "source": [
    "### Model evaluation"
   ]
  },
  {
   "cell_type": "code",
   "execution_count": 233,
   "id": "22189f2c",
   "metadata": {},
   "outputs": [
    {
     "data": {
      "text/plain": [
       "array([[444,  40],\n",
       "       [ 86,  98]])"
      ]
     },
     "execution_count": 233,
     "metadata": {},
     "output_type": "execute_result"
    }
   ],
   "source": [
    "confusion_matrix(y_test,clf_knn_best.predict(X_test_s))"
   ]
  },
  {
   "cell_type": "code",
   "execution_count": 234,
   "id": "8571d444",
   "metadata": {},
   "outputs": [
    {
     "data": {
      "text/plain": [
       "0.811377245508982"
      ]
     },
     "execution_count": 234,
     "metadata": {},
     "output_type": "execute_result"
    }
   ],
   "source": [
    "accuracy_score(y_test,clf_knn_best.predict(X_test_s))"
   ]
  },
  {
   "cell_type": "code",
   "execution_count": null,
   "id": "dfd3fe77",
   "metadata": {},
   "outputs": [],
   "source": []
  },
  {
   "cell_type": "markdown",
   "id": "332ec694",
   "metadata": {},
   "source": [
    "## Decision Tree"
   ]
  },
  {
   "cell_type": "code",
   "execution_count": 235,
   "id": "13d4472b",
   "metadata": {},
   "outputs": [],
   "source": [
    "from sklearn import tree\n",
    "clf_tree=tree.DecisionTreeClassifier(criteria='gini')"
   ]
  },
  {
   "cell_type": "code",
   "execution_count": 239,
   "id": "0b20f37f",
   "metadata": {},
   "outputs": [],
   "source": [
    "params={'max_depth':[2,4,6],\n",
    "        'min_samples_split':[4,6,8],\n",
    "       'min_samples_leaf':[5,10,20]}"
   ]
  },
  {
   "cell_type": "code",
   "execution_count": 240,
   "id": "6bd11d72",
   "metadata": {},
   "outputs": [],
   "source": [
    "clf_tree_grid=GridSearchCV(clf_tree,params,n_jobs=-1,cv=5,scoring='accuracy')"
   ]
  },
  {
   "cell_type": "code",
   "execution_count": 241,
   "id": "194d411c",
   "metadata": {},
   "outputs": [
    {
     "data": {
      "text/html": [
       "<style>#sk-container-id-24 {color: black;background-color: white;}#sk-container-id-24 pre{padding: 0;}#sk-container-id-24 div.sk-toggleable {background-color: white;}#sk-container-id-24 label.sk-toggleable__label {cursor: pointer;display: block;width: 100%;margin-bottom: 0;padding: 0.3em;box-sizing: border-box;text-align: center;}#sk-container-id-24 label.sk-toggleable__label-arrow:before {content: \"▸\";float: left;margin-right: 0.25em;color: #696969;}#sk-container-id-24 label.sk-toggleable__label-arrow:hover:before {color: black;}#sk-container-id-24 div.sk-estimator:hover label.sk-toggleable__label-arrow:before {color: black;}#sk-container-id-24 div.sk-toggleable__content {max-height: 0;max-width: 0;overflow: hidden;text-align: left;background-color: #f0f8ff;}#sk-container-id-24 div.sk-toggleable__content pre {margin: 0.2em;color: black;border-radius: 0.25em;background-color: #f0f8ff;}#sk-container-id-24 input.sk-toggleable__control:checked~div.sk-toggleable__content {max-height: 200px;max-width: 100%;overflow: auto;}#sk-container-id-24 input.sk-toggleable__control:checked~label.sk-toggleable__label-arrow:before {content: \"▾\";}#sk-container-id-24 div.sk-estimator input.sk-toggleable__control:checked~label.sk-toggleable__label {background-color: #d4ebff;}#sk-container-id-24 div.sk-label input.sk-toggleable__control:checked~label.sk-toggleable__label {background-color: #d4ebff;}#sk-container-id-24 input.sk-hidden--visually {border: 0;clip: rect(1px 1px 1px 1px);clip: rect(1px, 1px, 1px, 1px);height: 1px;margin: -1px;overflow: hidden;padding: 0;position: absolute;width: 1px;}#sk-container-id-24 div.sk-estimator {font-family: monospace;background-color: #f0f8ff;border: 1px dotted black;border-radius: 0.25em;box-sizing: border-box;margin-bottom: 0.5em;}#sk-container-id-24 div.sk-estimator:hover {background-color: #d4ebff;}#sk-container-id-24 div.sk-parallel-item::after {content: \"\";width: 100%;border-bottom: 1px solid gray;flex-grow: 1;}#sk-container-id-24 div.sk-label:hover label.sk-toggleable__label {background-color: #d4ebff;}#sk-container-id-24 div.sk-serial::before {content: \"\";position: absolute;border-left: 1px solid gray;box-sizing: border-box;top: 0;bottom: 0;left: 50%;z-index: 0;}#sk-container-id-24 div.sk-serial {display: flex;flex-direction: column;align-items: center;background-color: white;padding-right: 0.2em;padding-left: 0.2em;position: relative;}#sk-container-id-24 div.sk-item {position: relative;z-index: 1;}#sk-container-id-24 div.sk-parallel {display: flex;align-items: stretch;justify-content: center;background-color: white;position: relative;}#sk-container-id-24 div.sk-item::before, #sk-container-id-24 div.sk-parallel-item::before {content: \"\";position: absolute;border-left: 1px solid gray;box-sizing: border-box;top: 0;bottom: 0;left: 50%;z-index: -1;}#sk-container-id-24 div.sk-parallel-item {display: flex;flex-direction: column;z-index: 1;position: relative;background-color: white;}#sk-container-id-24 div.sk-parallel-item:first-child::after {align-self: flex-end;width: 50%;}#sk-container-id-24 div.sk-parallel-item:last-child::after {align-self: flex-start;width: 50%;}#sk-container-id-24 div.sk-parallel-item:only-child::after {width: 0;}#sk-container-id-24 div.sk-dashed-wrapped {border: 1px dashed gray;margin: 0 0.4em 0.5em 0.4em;box-sizing: border-box;padding-bottom: 0.4em;background-color: white;}#sk-container-id-24 div.sk-label label {font-family: monospace;font-weight: bold;display: inline-block;line-height: 1.2em;}#sk-container-id-24 div.sk-label-container {text-align: center;}#sk-container-id-24 div.sk-container {/* jupyter's `normalize.less` sets `[hidden] { display: none; }` but bootstrap.min.css set `[hidden] { display: none !important; }` so we also need the `!important` here to be able to override the default hidden behavior on the sphinx rendered scikit-learn.org. See: https://github.com/scikit-learn/scikit-learn/issues/21755 */display: inline-block !important;position: relative;}#sk-container-id-24 div.sk-text-repr-fallback {display: none;}</style><div id=\"sk-container-id-24\" class=\"sk-top-container\"><div class=\"sk-text-repr-fallback\"><pre>GridSearchCV(cv=5, estimator=DecisionTreeClassifier(), n_jobs=-1,\n",
       "             param_grid={&#x27;max_depth&#x27;: [2, 4, 6],\n",
       "                         &#x27;min_samples_leaf&#x27;: [5, 10, 20],\n",
       "                         &#x27;min_samples_split&#x27;: [4, 6, 8]},\n",
       "             scoring=&#x27;accuracy&#x27;)</pre><b>In a Jupyter environment, please rerun this cell to show the HTML representation or trust the notebook. <br />On GitHub, the HTML representation is unable to render, please try loading this page with nbviewer.org.</b></div><div class=\"sk-container\" hidden><div class=\"sk-item sk-dashed-wrapped\"><div class=\"sk-label-container\"><div class=\"sk-label sk-toggleable\"><input class=\"sk-toggleable__control sk-hidden--visually\" id=\"sk-estimator-id-44\" type=\"checkbox\" ><label for=\"sk-estimator-id-44\" class=\"sk-toggleable__label sk-toggleable__label-arrow\">GridSearchCV</label><div class=\"sk-toggleable__content\"><pre>GridSearchCV(cv=5, estimator=DecisionTreeClassifier(), n_jobs=-1,\n",
       "             param_grid={&#x27;max_depth&#x27;: [2, 4, 6],\n",
       "                         &#x27;min_samples_leaf&#x27;: [5, 10, 20],\n",
       "                         &#x27;min_samples_split&#x27;: [4, 6, 8]},\n",
       "             scoring=&#x27;accuracy&#x27;)</pre></div></div></div><div class=\"sk-parallel\"><div class=\"sk-parallel-item\"><div class=\"sk-item\"><div class=\"sk-label-container\"><div class=\"sk-label sk-toggleable\"><input class=\"sk-toggleable__control sk-hidden--visually\" id=\"sk-estimator-id-45\" type=\"checkbox\" ><label for=\"sk-estimator-id-45\" class=\"sk-toggleable__label sk-toggleable__label-arrow\">estimator: DecisionTreeClassifier</label><div class=\"sk-toggleable__content\"><pre>DecisionTreeClassifier()</pre></div></div></div><div class=\"sk-serial\"><div class=\"sk-item\"><div class=\"sk-estimator sk-toggleable\"><input class=\"sk-toggleable__control sk-hidden--visually\" id=\"sk-estimator-id-46\" type=\"checkbox\" ><label for=\"sk-estimator-id-46\" class=\"sk-toggleable__label sk-toggleable__label-arrow\">DecisionTreeClassifier</label><div class=\"sk-toggleable__content\"><pre>DecisionTreeClassifier()</pre></div></div></div></div></div></div></div></div></div></div>"
      ],
      "text/plain": [
       "GridSearchCV(cv=5, estimator=DecisionTreeClassifier(), n_jobs=-1,\n",
       "             param_grid={'max_depth': [2, 4, 6],\n",
       "                         'min_samples_leaf': [5, 10, 20],\n",
       "                         'min_samples_split': [4, 6, 8]},\n",
       "             scoring='accuracy')"
      ]
     },
     "execution_count": 241,
     "metadata": {},
     "output_type": "execute_result"
    }
   ],
   "source": [
    "#training\n",
    "clf_tree_grid.fit(X_train,y_train)"
   ]
  },
  {
   "cell_type": "code",
   "execution_count": 242,
   "id": "d38294e0",
   "metadata": {},
   "outputs": [
    {
     "data": {
      "text/plain": [
       "{'max_depth': 4, 'min_samples_leaf': 20, 'min_samples_split': 4}"
      ]
     },
     "execution_count": 242,
     "metadata": {},
     "output_type": "execute_result"
    }
   ],
   "source": [
    "clf_tree_grid.best_params_"
   ]
  },
  {
   "cell_type": "code",
   "execution_count": 243,
   "id": "c9881839",
   "metadata": {},
   "outputs": [],
   "source": [
    "clf_tree_best=clf_tree_grid.best_estimator_"
   ]
  },
  {
   "cell_type": "markdown",
   "id": "7780f39f",
   "metadata": {},
   "source": [
    "### Model Evaluation"
   ]
  },
  {
   "cell_type": "code",
   "execution_count": 244,
   "id": "886e0871",
   "metadata": {},
   "outputs": [
    {
     "data": {
      "text/plain": [
       "array([[446,  38],\n",
       "       [ 92,  92]])"
      ]
     },
     "execution_count": 244,
     "metadata": {},
     "output_type": "execute_result"
    }
   ],
   "source": [
    "confusion_matrix(y_test,clf_tree_best.predict(X_test))"
   ]
  },
  {
   "cell_type": "code",
   "execution_count": 245,
   "id": "11f50c1f",
   "metadata": {},
   "outputs": [
    {
     "data": {
      "text/plain": [
       "0.8053892215568862"
      ]
     },
     "execution_count": 245,
     "metadata": {},
     "output_type": "execute_result"
    }
   ],
   "source": [
    "accuracy_score(y_test,clf_tree_best.predict(X_test))"
   ]
  },
  {
   "cell_type": "markdown",
   "id": "e6282203",
   "metadata": {},
   "source": [
    "## Bagging"
   ]
  },
  {
   "cell_type": "code",
   "execution_count": 258,
   "id": "b3dd0406",
   "metadata": {},
   "outputs": [],
   "source": [
    "from sklearn.ensemble import BaggingClassifier\n",
    "bag_clf = BaggingClassifier(base_estimator=clf_tree,bootstrap= True\n",
    "                           random_state =42)"
   ]
  },
  {
   "cell_type": "code",
   "execution_count": 259,
   "id": "430cd03a",
   "metadata": {},
   "outputs": [],
   "source": [
    "params={'n_estimators':[100,250,500]}"
   ]
  },
  {
   "cell_type": "code",
   "execution_count": 260,
   "id": "12838313",
   "metadata": {},
   "outputs": [],
   "source": [
    "bag_grid = GridSearchCV(bag_clf,params,n_jobs=-1,cv=5,scoring='accuracy')"
   ]
  },
  {
   "cell_type": "code",
   "execution_count": 261,
   "id": "112101d6",
   "metadata": {},
   "outputs": [
    {
     "name": "stderr",
     "output_type": "stream",
     "text": [
      "/usr/local/lib/python3.10/dist-packages/sklearn/ensemble/_base.py:166: FutureWarning: `base_estimator` was renamed to `estimator` in version 1.2 and will be removed in 1.4.\n",
      "  warnings.warn(\n",
      "/usr/local/lib/python3.10/dist-packages/sklearn/ensemble/_base.py:166: FutureWarning: `base_estimator` was renamed to `estimator` in version 1.2 and will be removed in 1.4.\n",
      "  warnings.warn(\n",
      "/usr/local/lib/python3.10/dist-packages/sklearn/ensemble/_base.py:166: FutureWarning: `base_estimator` was renamed to `estimator` in version 1.2 and will be removed in 1.4.\n",
      "  warnings.warn(\n",
      "/usr/local/lib/python3.10/dist-packages/sklearn/ensemble/_base.py:166: FutureWarning: `base_estimator` was renamed to `estimator` in version 1.2 and will be removed in 1.4.\n",
      "  warnings.warn(\n",
      "/usr/local/lib/python3.10/dist-packages/sklearn/ensemble/_base.py:166: FutureWarning: `base_estimator` was renamed to `estimator` in version 1.2 and will be removed in 1.4.\n",
      "  warnings.warn(\n",
      "/usr/local/lib/python3.10/dist-packages/sklearn/ensemble/_base.py:166: FutureWarning: `base_estimator` was renamed to `estimator` in version 1.2 and will be removed in 1.4.\n",
      "  warnings.warn(\n",
      "/usr/local/lib/python3.10/dist-packages/sklearn/ensemble/_base.py:166: FutureWarning: `base_estimator` was renamed to `estimator` in version 1.2 and will be removed in 1.4.\n",
      "  warnings.warn(\n",
      "/usr/local/lib/python3.10/dist-packages/sklearn/ensemble/_base.py:166: FutureWarning: `base_estimator` was renamed to `estimator` in version 1.2 and will be removed in 1.4.\n",
      "  warnings.warn(\n",
      "/usr/local/lib/python3.10/dist-packages/sklearn/ensemble/_base.py:166: FutureWarning: `base_estimator` was renamed to `estimator` in version 1.2 and will be removed in 1.4.\n",
      "  warnings.warn(\n",
      "/usr/local/lib/python3.10/dist-packages/sklearn/ensemble/_base.py:166: FutureWarning: `base_estimator` was renamed to `estimator` in version 1.2 and will be removed in 1.4.\n",
      "  warnings.warn(\n",
      "/usr/local/lib/python3.10/dist-packages/sklearn/ensemble/_base.py:166: FutureWarning: `base_estimator` was renamed to `estimator` in version 1.2 and will be removed in 1.4.\n",
      "  warnings.warn(\n",
      "/usr/local/lib/python3.10/dist-packages/sklearn/ensemble/_base.py:166: FutureWarning: `base_estimator` was renamed to `estimator` in version 1.2 and will be removed in 1.4.\n",
      "  warnings.warn(\n",
      "/usr/local/lib/python3.10/dist-packages/sklearn/ensemble/_base.py:166: FutureWarning: `base_estimator` was renamed to `estimator` in version 1.2 and will be removed in 1.4.\n",
      "  warnings.warn(\n",
      "/usr/local/lib/python3.10/dist-packages/sklearn/ensemble/_base.py:166: FutureWarning: `base_estimator` was renamed to `estimator` in version 1.2 and will be removed in 1.4.\n",
      "  warnings.warn(\n",
      "/usr/local/lib/python3.10/dist-packages/sklearn/ensemble/_base.py:166: FutureWarning: `base_estimator` was renamed to `estimator` in version 1.2 and will be removed in 1.4.\n",
      "  warnings.warn(\n",
      "/usr/local/lib/python3.10/dist-packages/sklearn/ensemble/_base.py:166: FutureWarning: `base_estimator` was renamed to `estimator` in version 1.2 and will be removed in 1.4.\n",
      "  warnings.warn(\n"
     ]
    },
    {
     "data": {
      "text/html": [
       "<style>#sk-container-id-28 {color: black;background-color: white;}#sk-container-id-28 pre{padding: 0;}#sk-container-id-28 div.sk-toggleable {background-color: white;}#sk-container-id-28 label.sk-toggleable__label {cursor: pointer;display: block;width: 100%;margin-bottom: 0;padding: 0.3em;box-sizing: border-box;text-align: center;}#sk-container-id-28 label.sk-toggleable__label-arrow:before {content: \"▸\";float: left;margin-right: 0.25em;color: #696969;}#sk-container-id-28 label.sk-toggleable__label-arrow:hover:before {color: black;}#sk-container-id-28 div.sk-estimator:hover label.sk-toggleable__label-arrow:before {color: black;}#sk-container-id-28 div.sk-toggleable__content {max-height: 0;max-width: 0;overflow: hidden;text-align: left;background-color: #f0f8ff;}#sk-container-id-28 div.sk-toggleable__content pre {margin: 0.2em;color: black;border-radius: 0.25em;background-color: #f0f8ff;}#sk-container-id-28 input.sk-toggleable__control:checked~div.sk-toggleable__content {max-height: 200px;max-width: 100%;overflow: auto;}#sk-container-id-28 input.sk-toggleable__control:checked~label.sk-toggleable__label-arrow:before {content: \"▾\";}#sk-container-id-28 div.sk-estimator input.sk-toggleable__control:checked~label.sk-toggleable__label {background-color: #d4ebff;}#sk-container-id-28 div.sk-label input.sk-toggleable__control:checked~label.sk-toggleable__label {background-color: #d4ebff;}#sk-container-id-28 input.sk-hidden--visually {border: 0;clip: rect(1px 1px 1px 1px);clip: rect(1px, 1px, 1px, 1px);height: 1px;margin: -1px;overflow: hidden;padding: 0;position: absolute;width: 1px;}#sk-container-id-28 div.sk-estimator {font-family: monospace;background-color: #f0f8ff;border: 1px dotted black;border-radius: 0.25em;box-sizing: border-box;margin-bottom: 0.5em;}#sk-container-id-28 div.sk-estimator:hover {background-color: #d4ebff;}#sk-container-id-28 div.sk-parallel-item::after {content: \"\";width: 100%;border-bottom: 1px solid gray;flex-grow: 1;}#sk-container-id-28 div.sk-label:hover label.sk-toggleable__label {background-color: #d4ebff;}#sk-container-id-28 div.sk-serial::before {content: \"\";position: absolute;border-left: 1px solid gray;box-sizing: border-box;top: 0;bottom: 0;left: 50%;z-index: 0;}#sk-container-id-28 div.sk-serial {display: flex;flex-direction: column;align-items: center;background-color: white;padding-right: 0.2em;padding-left: 0.2em;position: relative;}#sk-container-id-28 div.sk-item {position: relative;z-index: 1;}#sk-container-id-28 div.sk-parallel {display: flex;align-items: stretch;justify-content: center;background-color: white;position: relative;}#sk-container-id-28 div.sk-item::before, #sk-container-id-28 div.sk-parallel-item::before {content: \"\";position: absolute;border-left: 1px solid gray;box-sizing: border-box;top: 0;bottom: 0;left: 50%;z-index: -1;}#sk-container-id-28 div.sk-parallel-item {display: flex;flex-direction: column;z-index: 1;position: relative;background-color: white;}#sk-container-id-28 div.sk-parallel-item:first-child::after {align-self: flex-end;width: 50%;}#sk-container-id-28 div.sk-parallel-item:last-child::after {align-self: flex-start;width: 50%;}#sk-container-id-28 div.sk-parallel-item:only-child::after {width: 0;}#sk-container-id-28 div.sk-dashed-wrapped {border: 1px dashed gray;margin: 0 0.4em 0.5em 0.4em;box-sizing: border-box;padding-bottom: 0.4em;background-color: white;}#sk-container-id-28 div.sk-label label {font-family: monospace;font-weight: bold;display: inline-block;line-height: 1.2em;}#sk-container-id-28 div.sk-label-container {text-align: center;}#sk-container-id-28 div.sk-container {/* jupyter's `normalize.less` sets `[hidden] { display: none; }` but bootstrap.min.css set `[hidden] { display: none !important; }` so we also need the `!important` here to be able to override the default hidden behavior on the sphinx rendered scikit-learn.org. See: https://github.com/scikit-learn/scikit-learn/issues/21755 */display: inline-block !important;position: relative;}#sk-container-id-28 div.sk-text-repr-fallback {display: none;}</style><div id=\"sk-container-id-28\" class=\"sk-top-container\"><div class=\"sk-text-repr-fallback\"><pre>GridSearchCV(cv=5,\n",
       "             estimator=BaggingClassifier(base_estimator=DecisionTreeClassifier(),\n",
       "                                         random_state=42),\n",
       "             n_jobs=-1, param_grid={&#x27;n_estimators&#x27;: [100, 250, 500]},\n",
       "             scoring=&#x27;accuracy&#x27;)</pre><b>In a Jupyter environment, please rerun this cell to show the HTML representation or trust the notebook. <br />On GitHub, the HTML representation is unable to render, please try loading this page with nbviewer.org.</b></div><div class=\"sk-container\" hidden><div class=\"sk-item sk-dashed-wrapped\"><div class=\"sk-label-container\"><div class=\"sk-label sk-toggleable\"><input class=\"sk-toggleable__control sk-hidden--visually\" id=\"sk-estimator-id-59\" type=\"checkbox\" ><label for=\"sk-estimator-id-59\" class=\"sk-toggleable__label sk-toggleable__label-arrow\">GridSearchCV</label><div class=\"sk-toggleable__content\"><pre>GridSearchCV(cv=5,\n",
       "             estimator=BaggingClassifier(base_estimator=DecisionTreeClassifier(),\n",
       "                                         random_state=42),\n",
       "             n_jobs=-1, param_grid={&#x27;n_estimators&#x27;: [100, 250, 500]},\n",
       "             scoring=&#x27;accuracy&#x27;)</pre></div></div></div><div class=\"sk-parallel\"><div class=\"sk-parallel-item\"><div class=\"sk-item\"><div class=\"sk-label-container\"><div class=\"sk-label sk-toggleable\"><input class=\"sk-toggleable__control sk-hidden--visually\" id=\"sk-estimator-id-60\" type=\"checkbox\" ><label for=\"sk-estimator-id-60\" class=\"sk-toggleable__label sk-toggleable__label-arrow\">estimator: BaggingClassifier</label><div class=\"sk-toggleable__content\"><pre>BaggingClassifier(base_estimator=DecisionTreeClassifier(), random_state=42)</pre></div></div></div><div class=\"sk-serial\"><div class=\"sk-item sk-dashed-wrapped\"><div class=\"sk-parallel\"><div class=\"sk-parallel-item\"><div class=\"sk-item\"><div class=\"sk-label-container\"><div class=\"sk-label sk-toggleable\"><input class=\"sk-toggleable__control sk-hidden--visually\" id=\"sk-estimator-id-61\" type=\"checkbox\" ><label for=\"sk-estimator-id-61\" class=\"sk-toggleable__label sk-toggleable__label-arrow\">base_estimator: DecisionTreeClassifier</label><div class=\"sk-toggleable__content\"><pre>DecisionTreeClassifier()</pre></div></div></div><div class=\"sk-serial\"><div class=\"sk-item\"><div class=\"sk-estimator sk-toggleable\"><input class=\"sk-toggleable__control sk-hidden--visually\" id=\"sk-estimator-id-62\" type=\"checkbox\" ><label for=\"sk-estimator-id-62\" class=\"sk-toggleable__label sk-toggleable__label-arrow\">DecisionTreeClassifier</label><div class=\"sk-toggleable__content\"><pre>DecisionTreeClassifier()</pre></div></div></div></div></div></div></div></div></div></div></div></div></div></div></div>"
      ],
      "text/plain": [
       "GridSearchCV(cv=5,\n",
       "             estimator=BaggingClassifier(base_estimator=DecisionTreeClassifier(),\n",
       "                                         random_state=42),\n",
       "             n_jobs=-1, param_grid={'n_estimators': [100, 250, 500]},\n",
       "             scoring='accuracy')"
      ]
     },
     "execution_count": 261,
     "metadata": {},
     "output_type": "execute_result"
    }
   ],
   "source": [
    "bag_grid.fit(X_train,y_train)"
   ]
  },
  {
   "cell_type": "code",
   "execution_count": 262,
   "id": "5e43d7e8",
   "metadata": {},
   "outputs": [
    {
     "data": {
      "text/plain": [
       "{'n_estimators': 250}"
      ]
     },
     "execution_count": 262,
     "metadata": {},
     "output_type": "execute_result"
    }
   ],
   "source": [
    "#finding best model parameters\n",
    "bag_grid.best_params_"
   ]
  },
  {
   "cell_type": "code",
   "execution_count": 263,
   "id": "9a8da200",
   "metadata": {},
   "outputs": [],
   "source": [
    "#storing best model\n",
    "bag_best=bag_grid.best_estimator_"
   ]
  },
  {
   "cell_type": "markdown",
   "id": "d49b0c12",
   "metadata": {},
   "source": [
    "### Model Evaluation"
   ]
  },
  {
   "cell_type": "code",
   "execution_count": 264,
   "id": "5d52e954",
   "metadata": {},
   "outputs": [
    {
     "data": {
      "text/plain": [
       "array([[447,  37],\n",
       "       [ 75, 109]])"
      ]
     },
     "execution_count": 264,
     "metadata": {},
     "output_type": "execute_result"
    }
   ],
   "source": [
    "confusion_matrix(y_test,bag_best.predict(X_test))"
   ]
  },
  {
   "cell_type": "code",
   "execution_count": 265,
   "id": "ba692255",
   "metadata": {},
   "outputs": [
    {
     "data": {
      "text/plain": [
       "0.8323353293413174"
      ]
     },
     "execution_count": 265,
     "metadata": {},
     "output_type": "execute_result"
    }
   ],
   "source": [
    "accuracy_score(y_test,bag_best.predict(X_test))"
   ]
  },
  {
   "cell_type": "markdown",
   "id": "a1275856",
   "metadata": {},
   "source": [
    "## Random Forest"
   ]
  },
  {
   "cell_type": "code",
   "execution_count": 267,
   "id": "0dd1884e",
   "metadata": {},
   "outputs": [],
   "source": [
    "from sklearn.ensemble import RandomForestClassifier\n",
    "rf=RandomForestClassifier(random_state=42)"
   ]
  },
  {
   "cell_type": "code",
   "execution_count": 272,
   "id": "52047620",
   "metadata": {},
   "outputs": [],
   "source": [
    "params={'n_estimators':[100,250],\n",
    "        'max_depth':[3,4,5],\n",
    "        'max_features':[4,7,10],\n",
    "        'min_samples_split':[2,3,10]\n",
    "}"
   ]
  },
  {
   "cell_type": "code",
   "execution_count": 273,
   "id": "bd6cb575",
   "metadata": {},
   "outputs": [],
   "source": [
    "rf_grid= GridSearchCV(rf,params,\n",
    "                          n_jobs=-1,cv=5,scoring='accuracy')"
   ]
  },
  {
   "cell_type": "code",
   "execution_count": 274,
   "id": "af4488d5",
   "metadata": {},
   "outputs": [
    {
     "data": {
      "text/html": [
       "<style>#sk-container-id-29 {color: black;background-color: white;}#sk-container-id-29 pre{padding: 0;}#sk-container-id-29 div.sk-toggleable {background-color: white;}#sk-container-id-29 label.sk-toggleable__label {cursor: pointer;display: block;width: 100%;margin-bottom: 0;padding: 0.3em;box-sizing: border-box;text-align: center;}#sk-container-id-29 label.sk-toggleable__label-arrow:before {content: \"▸\";float: left;margin-right: 0.25em;color: #696969;}#sk-container-id-29 label.sk-toggleable__label-arrow:hover:before {color: black;}#sk-container-id-29 div.sk-estimator:hover label.sk-toggleable__label-arrow:before {color: black;}#sk-container-id-29 div.sk-toggleable__content {max-height: 0;max-width: 0;overflow: hidden;text-align: left;background-color: #f0f8ff;}#sk-container-id-29 div.sk-toggleable__content pre {margin: 0.2em;color: black;border-radius: 0.25em;background-color: #f0f8ff;}#sk-container-id-29 input.sk-toggleable__control:checked~div.sk-toggleable__content {max-height: 200px;max-width: 100%;overflow: auto;}#sk-container-id-29 input.sk-toggleable__control:checked~label.sk-toggleable__label-arrow:before {content: \"▾\";}#sk-container-id-29 div.sk-estimator input.sk-toggleable__control:checked~label.sk-toggleable__label {background-color: #d4ebff;}#sk-container-id-29 div.sk-label input.sk-toggleable__control:checked~label.sk-toggleable__label {background-color: #d4ebff;}#sk-container-id-29 input.sk-hidden--visually {border: 0;clip: rect(1px 1px 1px 1px);clip: rect(1px, 1px, 1px, 1px);height: 1px;margin: -1px;overflow: hidden;padding: 0;position: absolute;width: 1px;}#sk-container-id-29 div.sk-estimator {font-family: monospace;background-color: #f0f8ff;border: 1px dotted black;border-radius: 0.25em;box-sizing: border-box;margin-bottom: 0.5em;}#sk-container-id-29 div.sk-estimator:hover {background-color: #d4ebff;}#sk-container-id-29 div.sk-parallel-item::after {content: \"\";width: 100%;border-bottom: 1px solid gray;flex-grow: 1;}#sk-container-id-29 div.sk-label:hover label.sk-toggleable__label {background-color: #d4ebff;}#sk-container-id-29 div.sk-serial::before {content: \"\";position: absolute;border-left: 1px solid gray;box-sizing: border-box;top: 0;bottom: 0;left: 50%;z-index: 0;}#sk-container-id-29 div.sk-serial {display: flex;flex-direction: column;align-items: center;background-color: white;padding-right: 0.2em;padding-left: 0.2em;position: relative;}#sk-container-id-29 div.sk-item {position: relative;z-index: 1;}#sk-container-id-29 div.sk-parallel {display: flex;align-items: stretch;justify-content: center;background-color: white;position: relative;}#sk-container-id-29 div.sk-item::before, #sk-container-id-29 div.sk-parallel-item::before {content: \"\";position: absolute;border-left: 1px solid gray;box-sizing: border-box;top: 0;bottom: 0;left: 50%;z-index: -1;}#sk-container-id-29 div.sk-parallel-item {display: flex;flex-direction: column;z-index: 1;position: relative;background-color: white;}#sk-container-id-29 div.sk-parallel-item:first-child::after {align-self: flex-end;width: 50%;}#sk-container-id-29 div.sk-parallel-item:last-child::after {align-self: flex-start;width: 50%;}#sk-container-id-29 div.sk-parallel-item:only-child::after {width: 0;}#sk-container-id-29 div.sk-dashed-wrapped {border: 1px dashed gray;margin: 0 0.4em 0.5em 0.4em;box-sizing: border-box;padding-bottom: 0.4em;background-color: white;}#sk-container-id-29 div.sk-label label {font-family: monospace;font-weight: bold;display: inline-block;line-height: 1.2em;}#sk-container-id-29 div.sk-label-container {text-align: center;}#sk-container-id-29 div.sk-container {/* jupyter's `normalize.less` sets `[hidden] { display: none; }` but bootstrap.min.css set `[hidden] { display: none !important; }` so we also need the `!important` here to be able to override the default hidden behavior on the sphinx rendered scikit-learn.org. See: https://github.com/scikit-learn/scikit-learn/issues/21755 */display: inline-block !important;position: relative;}#sk-container-id-29 div.sk-text-repr-fallback {display: none;}</style><div id=\"sk-container-id-29\" class=\"sk-top-container\"><div class=\"sk-text-repr-fallback\"><pre>GridSearchCV(cv=5, estimator=RandomForestClassifier(random_state=42), n_jobs=-1,\n",
       "             param_grid={&#x27;max_depth&#x27;: [3, 4, 5], &#x27;max_features&#x27;: [4, 7, 10],\n",
       "                         &#x27;min_samples_split&#x27;: [2, 3, 10],\n",
       "                         &#x27;n_estimators&#x27;: [100, 250]},\n",
       "             scoring=&#x27;accuracy&#x27;)</pre><b>In a Jupyter environment, please rerun this cell to show the HTML representation or trust the notebook. <br />On GitHub, the HTML representation is unable to render, please try loading this page with nbviewer.org.</b></div><div class=\"sk-container\" hidden><div class=\"sk-item sk-dashed-wrapped\"><div class=\"sk-label-container\"><div class=\"sk-label sk-toggleable\"><input class=\"sk-toggleable__control sk-hidden--visually\" id=\"sk-estimator-id-63\" type=\"checkbox\" ><label for=\"sk-estimator-id-63\" class=\"sk-toggleable__label sk-toggleable__label-arrow\">GridSearchCV</label><div class=\"sk-toggleable__content\"><pre>GridSearchCV(cv=5, estimator=RandomForestClassifier(random_state=42), n_jobs=-1,\n",
       "             param_grid={&#x27;max_depth&#x27;: [3, 4, 5], &#x27;max_features&#x27;: [4, 7, 10],\n",
       "                         &#x27;min_samples_split&#x27;: [2, 3, 10],\n",
       "                         &#x27;n_estimators&#x27;: [100, 250]},\n",
       "             scoring=&#x27;accuracy&#x27;)</pre></div></div></div><div class=\"sk-parallel\"><div class=\"sk-parallel-item\"><div class=\"sk-item\"><div class=\"sk-label-container\"><div class=\"sk-label sk-toggleable\"><input class=\"sk-toggleable__control sk-hidden--visually\" id=\"sk-estimator-id-64\" type=\"checkbox\" ><label for=\"sk-estimator-id-64\" class=\"sk-toggleable__label sk-toggleable__label-arrow\">estimator: RandomForestClassifier</label><div class=\"sk-toggleable__content\"><pre>RandomForestClassifier(random_state=42)</pre></div></div></div><div class=\"sk-serial\"><div class=\"sk-item\"><div class=\"sk-estimator sk-toggleable\"><input class=\"sk-toggleable__control sk-hidden--visually\" id=\"sk-estimator-id-65\" type=\"checkbox\" ><label for=\"sk-estimator-id-65\" class=\"sk-toggleable__label sk-toggleable__label-arrow\">RandomForestClassifier</label><div class=\"sk-toggleable__content\"><pre>RandomForestClassifier(random_state=42)</pre></div></div></div></div></div></div></div></div></div></div>"
      ],
      "text/plain": [
       "GridSearchCV(cv=5, estimator=RandomForestClassifier(random_state=42), n_jobs=-1,\n",
       "             param_grid={'max_depth': [3, 4, 5], 'max_features': [4, 7, 10],\n",
       "                         'min_samples_split': [2, 3, 10],\n",
       "                         'n_estimators': [100, 250]},\n",
       "             scoring='accuracy')"
      ]
     },
     "execution_count": 274,
     "metadata": {},
     "output_type": "execute_result"
    }
   ],
   "source": [
    "rf_grid.fit(X_train,y_train)"
   ]
  },
  {
   "cell_type": "code",
   "execution_count": 275,
   "id": "2655bb2d",
   "metadata": {},
   "outputs": [
    {
     "data": {
      "text/plain": [
       "{'max_depth': 5,\n",
       " 'max_features': 10,\n",
       " 'min_samples_split': 3,\n",
       " 'n_estimators': 100}"
      ]
     },
     "execution_count": 275,
     "metadata": {},
     "output_type": "execute_result"
    }
   ],
   "source": [
    "# finding best model parameters\n",
    "rf_grid.best_params_"
   ]
  },
  {
   "cell_type": "code",
   "execution_count": 276,
   "id": "248245e9",
   "metadata": {},
   "outputs": [],
   "source": [
    "#storing best model\n",
    "rf_best = rf_grid.best_estimator_"
   ]
  },
  {
   "cell_type": "markdown",
   "id": "4d213893",
   "metadata": {},
   "source": [
    "### Model Evaluation"
   ]
  },
  {
   "cell_type": "code",
   "execution_count": 277,
   "id": "4e4db649",
   "metadata": {},
   "outputs": [
    {
     "data": {
      "text/plain": [
       "array([[461,  23],\n",
       "       [ 90,  94]])"
      ]
     },
     "execution_count": 277,
     "metadata": {},
     "output_type": "execute_result"
    }
   ],
   "source": [
    "confusion_matrix(y_test,rf_grid.predict(X_test))"
   ]
  },
  {
   "cell_type": "code",
   "execution_count": 278,
   "id": "df5e20e4",
   "metadata": {},
   "outputs": [
    {
     "data": {
      "text/plain": [
       "0.8308383233532934"
      ]
     },
     "execution_count": 278,
     "metadata": {},
     "output_type": "execute_result"
    }
   ],
   "source": [
    "accuracy_score(y_test,rf_grid.predict(X_test))"
   ]
  },
  {
   "cell_type": "markdown",
   "id": "0b949d27",
   "metadata": {},
   "source": [
    "## Gradient Boosting"
   ]
  },
  {
   "cell_type": "code",
   "execution_count": 279,
   "id": "e4a6251e",
   "metadata": {},
   "outputs": [],
   "source": [
    "from sklearn.ensemble import GradientBoostingClassifier\n",
    "gb = GradientBoostingClassifier(random_state=42)"
   ]
  },
  {
   "cell_type": "code",
   "execution_count": 280,
   "id": "4fdec84b",
   "metadata": {},
   "outputs": [],
   "source": [
    "params={'n_estimators':[100,250],\n",
    "        'max_depth':[3,4,5],\n",
    "        'max_features':[4,7,10],\n",
    "        'min_samples_split':[2,3,10],\n",
    "        'learning_rate':[0.2,0.5]\n",
    "}"
   ]
  },
  {
   "cell_type": "code",
   "execution_count": 283,
   "id": "a644741c",
   "metadata": {},
   "outputs": [],
   "source": [
    "gb_grid = GridSearchCV(gb,params,\n",
    "                        n_jobs=-1,cv=5,scoring='r2')"
   ]
  },
  {
   "cell_type": "code",
   "execution_count": 284,
   "id": "d4f35505",
   "metadata": {},
   "outputs": [
    {
     "data": {
      "text/html": [
       "<style>#sk-container-id-30 {color: black;background-color: white;}#sk-container-id-30 pre{padding: 0;}#sk-container-id-30 div.sk-toggleable {background-color: white;}#sk-container-id-30 label.sk-toggleable__label {cursor: pointer;display: block;width: 100%;margin-bottom: 0;padding: 0.3em;box-sizing: border-box;text-align: center;}#sk-container-id-30 label.sk-toggleable__label-arrow:before {content: \"▸\";float: left;margin-right: 0.25em;color: #696969;}#sk-container-id-30 label.sk-toggleable__label-arrow:hover:before {color: black;}#sk-container-id-30 div.sk-estimator:hover label.sk-toggleable__label-arrow:before {color: black;}#sk-container-id-30 div.sk-toggleable__content {max-height: 0;max-width: 0;overflow: hidden;text-align: left;background-color: #f0f8ff;}#sk-container-id-30 div.sk-toggleable__content pre {margin: 0.2em;color: black;border-radius: 0.25em;background-color: #f0f8ff;}#sk-container-id-30 input.sk-toggleable__control:checked~div.sk-toggleable__content {max-height: 200px;max-width: 100%;overflow: auto;}#sk-container-id-30 input.sk-toggleable__control:checked~label.sk-toggleable__label-arrow:before {content: \"▾\";}#sk-container-id-30 div.sk-estimator input.sk-toggleable__control:checked~label.sk-toggleable__label {background-color: #d4ebff;}#sk-container-id-30 div.sk-label input.sk-toggleable__control:checked~label.sk-toggleable__label {background-color: #d4ebff;}#sk-container-id-30 input.sk-hidden--visually {border: 0;clip: rect(1px 1px 1px 1px);clip: rect(1px, 1px, 1px, 1px);height: 1px;margin: -1px;overflow: hidden;padding: 0;position: absolute;width: 1px;}#sk-container-id-30 div.sk-estimator {font-family: monospace;background-color: #f0f8ff;border: 1px dotted black;border-radius: 0.25em;box-sizing: border-box;margin-bottom: 0.5em;}#sk-container-id-30 div.sk-estimator:hover {background-color: #d4ebff;}#sk-container-id-30 div.sk-parallel-item::after {content: \"\";width: 100%;border-bottom: 1px solid gray;flex-grow: 1;}#sk-container-id-30 div.sk-label:hover label.sk-toggleable__label {background-color: #d4ebff;}#sk-container-id-30 div.sk-serial::before {content: \"\";position: absolute;border-left: 1px solid gray;box-sizing: border-box;top: 0;bottom: 0;left: 50%;z-index: 0;}#sk-container-id-30 div.sk-serial {display: flex;flex-direction: column;align-items: center;background-color: white;padding-right: 0.2em;padding-left: 0.2em;position: relative;}#sk-container-id-30 div.sk-item {position: relative;z-index: 1;}#sk-container-id-30 div.sk-parallel {display: flex;align-items: stretch;justify-content: center;background-color: white;position: relative;}#sk-container-id-30 div.sk-item::before, #sk-container-id-30 div.sk-parallel-item::before {content: \"\";position: absolute;border-left: 1px solid gray;box-sizing: border-box;top: 0;bottom: 0;left: 50%;z-index: -1;}#sk-container-id-30 div.sk-parallel-item {display: flex;flex-direction: column;z-index: 1;position: relative;background-color: white;}#sk-container-id-30 div.sk-parallel-item:first-child::after {align-self: flex-end;width: 50%;}#sk-container-id-30 div.sk-parallel-item:last-child::after {align-self: flex-start;width: 50%;}#sk-container-id-30 div.sk-parallel-item:only-child::after {width: 0;}#sk-container-id-30 div.sk-dashed-wrapped {border: 1px dashed gray;margin: 0 0.4em 0.5em 0.4em;box-sizing: border-box;padding-bottom: 0.4em;background-color: white;}#sk-container-id-30 div.sk-label label {font-family: monospace;font-weight: bold;display: inline-block;line-height: 1.2em;}#sk-container-id-30 div.sk-label-container {text-align: center;}#sk-container-id-30 div.sk-container {/* jupyter's `normalize.less` sets `[hidden] { display: none; }` but bootstrap.min.css set `[hidden] { display: none !important; }` so we also need the `!important` here to be able to override the default hidden behavior on the sphinx rendered scikit-learn.org. See: https://github.com/scikit-learn/scikit-learn/issues/21755 */display: inline-block !important;position: relative;}#sk-container-id-30 div.sk-text-repr-fallback {display: none;}</style><div id=\"sk-container-id-30\" class=\"sk-top-container\"><div class=\"sk-text-repr-fallback\"><pre>GridSearchCV(cv=5, estimator=GradientBoostingClassifier(random_state=42),\n",
       "             n_jobs=-1,\n",
       "             param_grid={&#x27;learning_rate&#x27;: [0.2, 0.5], &#x27;max_depth&#x27;: [3, 4, 5],\n",
       "                         &#x27;max_features&#x27;: [4, 7, 10],\n",
       "                         &#x27;min_samples_split&#x27;: [2, 3, 10],\n",
       "                         &#x27;n_estimators&#x27;: [100, 250]},\n",
       "             scoring=&#x27;r2&#x27;)</pre><b>In a Jupyter environment, please rerun this cell to show the HTML representation or trust the notebook. <br />On GitHub, the HTML representation is unable to render, please try loading this page with nbviewer.org.</b></div><div class=\"sk-container\" hidden><div class=\"sk-item sk-dashed-wrapped\"><div class=\"sk-label-container\"><div class=\"sk-label sk-toggleable\"><input class=\"sk-toggleable__control sk-hidden--visually\" id=\"sk-estimator-id-66\" type=\"checkbox\" ><label for=\"sk-estimator-id-66\" class=\"sk-toggleable__label sk-toggleable__label-arrow\">GridSearchCV</label><div class=\"sk-toggleable__content\"><pre>GridSearchCV(cv=5, estimator=GradientBoostingClassifier(random_state=42),\n",
       "             n_jobs=-1,\n",
       "             param_grid={&#x27;learning_rate&#x27;: [0.2, 0.5], &#x27;max_depth&#x27;: [3, 4, 5],\n",
       "                         &#x27;max_features&#x27;: [4, 7, 10],\n",
       "                         &#x27;min_samples_split&#x27;: [2, 3, 10],\n",
       "                         &#x27;n_estimators&#x27;: [100, 250]},\n",
       "             scoring=&#x27;r2&#x27;)</pre></div></div></div><div class=\"sk-parallel\"><div class=\"sk-parallel-item\"><div class=\"sk-item\"><div class=\"sk-label-container\"><div class=\"sk-label sk-toggleable\"><input class=\"sk-toggleable__control sk-hidden--visually\" id=\"sk-estimator-id-67\" type=\"checkbox\" ><label for=\"sk-estimator-id-67\" class=\"sk-toggleable__label sk-toggleable__label-arrow\">estimator: GradientBoostingClassifier</label><div class=\"sk-toggleable__content\"><pre>GradientBoostingClassifier(random_state=42)</pre></div></div></div><div class=\"sk-serial\"><div class=\"sk-item\"><div class=\"sk-estimator sk-toggleable\"><input class=\"sk-toggleable__control sk-hidden--visually\" id=\"sk-estimator-id-68\" type=\"checkbox\" ><label for=\"sk-estimator-id-68\" class=\"sk-toggleable__label sk-toggleable__label-arrow\">GradientBoostingClassifier</label><div class=\"sk-toggleable__content\"><pre>GradientBoostingClassifier(random_state=42)</pre></div></div></div></div></div></div></div></div></div></div>"
      ],
      "text/plain": [
       "GridSearchCV(cv=5, estimator=GradientBoostingClassifier(random_state=42),\n",
       "             n_jobs=-1,\n",
       "             param_grid={'learning_rate': [0.2, 0.5], 'max_depth': [3, 4, 5],\n",
       "                         'max_features': [4, 7, 10],\n",
       "                         'min_samples_split': [2, 3, 10],\n",
       "                         'n_estimators': [100, 250]},\n",
       "             scoring='r2')"
      ]
     },
     "execution_count": 284,
     "metadata": {},
     "output_type": "execute_result"
    }
   ],
   "source": [
    "gb_grid.fit(X_train,y_train)"
   ]
  },
  {
   "cell_type": "code",
   "execution_count": 285,
   "id": "3a035481",
   "metadata": {},
   "outputs": [
    {
     "data": {
      "text/plain": [
       "{'learning_rate': 0.2,\n",
       " 'max_depth': 3,\n",
       " 'max_features': 4,\n",
       " 'min_samples_split': 2,\n",
       " 'n_estimators': 100}"
      ]
     },
     "execution_count": 285,
     "metadata": {},
     "output_type": "execute_result"
    }
   ],
   "source": [
    "# finding best model parameter\n",
    "gb_grid.best_params_"
   ]
  },
  {
   "cell_type": "code",
   "execution_count": 286,
   "id": "dd529be3",
   "metadata": {},
   "outputs": [],
   "source": [
    "#storing best model\n",
    "gb_best=gb_grid.best_estimator_"
   ]
  },
  {
   "cell_type": "markdown",
   "id": "3f6f140a",
   "metadata": {},
   "source": [
    "### Model Evaluation"
   ]
  },
  {
   "cell_type": "code",
   "execution_count": 287,
   "id": "980fcc3d",
   "metadata": {},
   "outputs": [
    {
     "data": {
      "text/plain": [
       "array([[450,  34],\n",
       "       [ 84, 100]])"
      ]
     },
     "execution_count": 287,
     "metadata": {},
     "output_type": "execute_result"
    }
   ],
   "source": [
    "confusion_matrix(y_test,gb_best.predict(X_test))"
   ]
  },
  {
   "cell_type": "code",
   "execution_count": 288,
   "id": "e8089197",
   "metadata": {},
   "outputs": [
    {
     "data": {
      "text/plain": [
       "0.8233532934131736"
      ]
     },
     "execution_count": 288,
     "metadata": {},
     "output_type": "execute_result"
    }
   ],
   "source": [
    "accuracy_score(y_test,gb_best.predict(X_test))"
   ]
  },
  {
   "cell_type": "markdown",
   "id": "cee8619c",
   "metadata": {},
   "source": [
    "## ADA boost using Random Forest as base estimator."
   ]
  },
  {
   "cell_type": "code",
   "execution_count": 289,
   "id": "a4f728f1",
   "metadata": {},
   "outputs": [],
   "source": [
    "from sklearn.ensemble import AdaBoostClassifier\n",
    "ada=AdaBoostClassifier(base_estimator=rf,random_state=42)"
   ]
  },
  {
   "cell_type": "code",
   "execution_count": 290,
   "id": "1b188068",
   "metadata": {},
   "outputs": [],
   "source": [
    "params={'n_estimators':[100,250,500],\n",
    "              'learning_rate':[0.2,0.5,1]}"
   ]
  },
  {
   "cell_type": "code",
   "execution_count": 291,
   "id": "1e99e52d",
   "metadata": {},
   "outputs": [],
   "source": [
    "ada_grid = GridSearchCV(ada,params,\n",
    "                        n_jobs=-1,cv=5,scoring='accuracy')"
   ]
  },
  {
   "cell_type": "code",
   "execution_count": 292,
   "id": "88e49c49",
   "metadata": {},
   "outputs": [
    {
     "name": "stderr",
     "output_type": "stream",
     "text": [
      "/usr/local/lib/python3.10/dist-packages/sklearn/ensemble/_base.py:166: FutureWarning: `base_estimator` was renamed to `estimator` in version 1.2 and will be removed in 1.4.\n",
      "  warnings.warn(\n",
      "/usr/local/lib/python3.10/dist-packages/sklearn/ensemble/_base.py:166: FutureWarning: `base_estimator` was renamed to `estimator` in version 1.2 and will be removed in 1.4.\n",
      "  warnings.warn(\n",
      "/usr/local/lib/python3.10/dist-packages/sklearn/ensemble/_base.py:166: FutureWarning: `base_estimator` was renamed to `estimator` in version 1.2 and will be removed in 1.4.\n",
      "  warnings.warn(\n",
      "/usr/local/lib/python3.10/dist-packages/sklearn/ensemble/_base.py:166: FutureWarning: `base_estimator` was renamed to `estimator` in version 1.2 and will be removed in 1.4.\n",
      "  warnings.warn(\n",
      "/usr/local/lib/python3.10/dist-packages/sklearn/ensemble/_base.py:166: FutureWarning: `base_estimator` was renamed to `estimator` in version 1.2 and will be removed in 1.4.\n",
      "  warnings.warn(\n",
      "/usr/local/lib/python3.10/dist-packages/sklearn/ensemble/_base.py:166: FutureWarning: `base_estimator` was renamed to `estimator` in version 1.2 and will be removed in 1.4.\n",
      "  warnings.warn(\n",
      "/usr/local/lib/python3.10/dist-packages/sklearn/ensemble/_base.py:166: FutureWarning: `base_estimator` was renamed to `estimator` in version 1.2 and will be removed in 1.4.\n",
      "  warnings.warn(\n",
      "/usr/local/lib/python3.10/dist-packages/sklearn/ensemble/_base.py:166: FutureWarning: `base_estimator` was renamed to `estimator` in version 1.2 and will be removed in 1.4.\n",
      "  warnings.warn(\n",
      "/usr/local/lib/python3.10/dist-packages/sklearn/ensemble/_base.py:166: FutureWarning: `base_estimator` was renamed to `estimator` in version 1.2 and will be removed in 1.4.\n",
      "  warnings.warn(\n",
      "/usr/local/lib/python3.10/dist-packages/sklearn/ensemble/_base.py:166: FutureWarning: `base_estimator` was renamed to `estimator` in version 1.2 and will be removed in 1.4.\n",
      "  warnings.warn(\n",
      "/usr/local/lib/python3.10/dist-packages/sklearn/ensemble/_base.py:166: FutureWarning: `base_estimator` was renamed to `estimator` in version 1.2 and will be removed in 1.4.\n",
      "  warnings.warn(\n",
      "/usr/local/lib/python3.10/dist-packages/sklearn/ensemble/_base.py:166: FutureWarning: `base_estimator` was renamed to `estimator` in version 1.2 and will be removed in 1.4.\n",
      "  warnings.warn(\n",
      "/usr/local/lib/python3.10/dist-packages/sklearn/ensemble/_base.py:166: FutureWarning: `base_estimator` was renamed to `estimator` in version 1.2 and will be removed in 1.4.\n",
      "  warnings.warn(\n",
      "/usr/local/lib/python3.10/dist-packages/sklearn/ensemble/_base.py:166: FutureWarning: `base_estimator` was renamed to `estimator` in version 1.2 and will be removed in 1.4.\n",
      "  warnings.warn(\n",
      "/usr/local/lib/python3.10/dist-packages/sklearn/ensemble/_base.py:166: FutureWarning: `base_estimator` was renamed to `estimator` in version 1.2 and will be removed in 1.4.\n",
      "  warnings.warn(\n",
      "/usr/local/lib/python3.10/dist-packages/sklearn/ensemble/_base.py:166: FutureWarning: `base_estimator` was renamed to `estimator` in version 1.2 and will be removed in 1.4.\n",
      "  warnings.warn(\n",
      "/usr/local/lib/python3.10/dist-packages/sklearn/ensemble/_base.py:166: FutureWarning: `base_estimator` was renamed to `estimator` in version 1.2 and will be removed in 1.4.\n",
      "  warnings.warn(\n",
      "/usr/local/lib/python3.10/dist-packages/sklearn/ensemble/_base.py:166: FutureWarning: `base_estimator` was renamed to `estimator` in version 1.2 and will be removed in 1.4.\n",
      "  warnings.warn(\n",
      "/usr/local/lib/python3.10/dist-packages/sklearn/ensemble/_base.py:166: FutureWarning: `base_estimator` was renamed to `estimator` in version 1.2 and will be removed in 1.4.\n",
      "  warnings.warn(\n",
      "/usr/local/lib/python3.10/dist-packages/sklearn/ensemble/_base.py:166: FutureWarning: `base_estimator` was renamed to `estimator` in version 1.2 and will be removed in 1.4.\n",
      "  warnings.warn(\n",
      "/usr/local/lib/python3.10/dist-packages/sklearn/ensemble/_base.py:166: FutureWarning: `base_estimator` was renamed to `estimator` in version 1.2 and will be removed in 1.4.\n",
      "  warnings.warn(\n",
      "/usr/local/lib/python3.10/dist-packages/sklearn/ensemble/_base.py:166: FutureWarning: `base_estimator` was renamed to `estimator` in version 1.2 and will be removed in 1.4.\n",
      "  warnings.warn(\n",
      "/usr/local/lib/python3.10/dist-packages/sklearn/ensemble/_base.py:166: FutureWarning: `base_estimator` was renamed to `estimator` in version 1.2 and will be removed in 1.4.\n",
      "  warnings.warn(\n",
      "/usr/local/lib/python3.10/dist-packages/sklearn/ensemble/_base.py:166: FutureWarning: `base_estimator` was renamed to `estimator` in version 1.2 and will be removed in 1.4.\n",
      "  warnings.warn(\n",
      "/usr/local/lib/python3.10/dist-packages/sklearn/ensemble/_base.py:166: FutureWarning: `base_estimator` was renamed to `estimator` in version 1.2 and will be removed in 1.4.\n",
      "  warnings.warn(\n",
      "/usr/local/lib/python3.10/dist-packages/sklearn/ensemble/_base.py:166: FutureWarning: `base_estimator` was renamed to `estimator` in version 1.2 and will be removed in 1.4.\n",
      "  warnings.warn(\n",
      "/usr/local/lib/python3.10/dist-packages/sklearn/ensemble/_base.py:166: FutureWarning: `base_estimator` was renamed to `estimator` in version 1.2 and will be removed in 1.4.\n",
      "  warnings.warn(\n",
      "/usr/local/lib/python3.10/dist-packages/sklearn/ensemble/_base.py:166: FutureWarning: `base_estimator` was renamed to `estimator` in version 1.2 and will be removed in 1.4.\n",
      "  warnings.warn(\n",
      "/usr/local/lib/python3.10/dist-packages/sklearn/ensemble/_base.py:166: FutureWarning: `base_estimator` was renamed to `estimator` in version 1.2 and will be removed in 1.4.\n",
      "  warnings.warn(\n",
      "/usr/local/lib/python3.10/dist-packages/sklearn/ensemble/_base.py:166: FutureWarning: `base_estimator` was renamed to `estimator` in version 1.2 and will be removed in 1.4.\n",
      "  warnings.warn(\n",
      "/usr/local/lib/python3.10/dist-packages/sklearn/ensemble/_base.py:166: FutureWarning: `base_estimator` was renamed to `estimator` in version 1.2 and will be removed in 1.4.\n",
      "  warnings.warn(\n",
      "/usr/local/lib/python3.10/dist-packages/sklearn/ensemble/_base.py:166: FutureWarning: `base_estimator` was renamed to `estimator` in version 1.2 and will be removed in 1.4.\n",
      "  warnings.warn(\n",
      "/usr/local/lib/python3.10/dist-packages/sklearn/ensemble/_base.py:166: FutureWarning: `base_estimator` was renamed to `estimator` in version 1.2 and will be removed in 1.4.\n",
      "  warnings.warn(\n",
      "/usr/local/lib/python3.10/dist-packages/sklearn/ensemble/_base.py:166: FutureWarning: `base_estimator` was renamed to `estimator` in version 1.2 and will be removed in 1.4.\n",
      "  warnings.warn(\n",
      "/usr/local/lib/python3.10/dist-packages/sklearn/ensemble/_base.py:166: FutureWarning: `base_estimator` was renamed to `estimator` in version 1.2 and will be removed in 1.4.\n",
      "  warnings.warn(\n",
      "/usr/local/lib/python3.10/dist-packages/sklearn/ensemble/_base.py:166: FutureWarning: `base_estimator` was renamed to `estimator` in version 1.2 and will be removed in 1.4.\n",
      "  warnings.warn(\n",
      "/usr/local/lib/python3.10/dist-packages/sklearn/ensemble/_base.py:166: FutureWarning: `base_estimator` was renamed to `estimator` in version 1.2 and will be removed in 1.4.\n",
      "  warnings.warn(\n",
      "/usr/local/lib/python3.10/dist-packages/sklearn/ensemble/_base.py:166: FutureWarning: `base_estimator` was renamed to `estimator` in version 1.2 and will be removed in 1.4.\n",
      "  warnings.warn(\n",
      "/usr/local/lib/python3.10/dist-packages/sklearn/ensemble/_base.py:166: FutureWarning: `base_estimator` was renamed to `estimator` in version 1.2 and will be removed in 1.4.\n",
      "  warnings.warn(\n",
      "/usr/local/lib/python3.10/dist-packages/sklearn/ensemble/_base.py:166: FutureWarning: `base_estimator` was renamed to `estimator` in version 1.2 and will be removed in 1.4.\n",
      "  warnings.warn(\n",
      "/usr/local/lib/python3.10/dist-packages/sklearn/ensemble/_base.py:166: FutureWarning: `base_estimator` was renamed to `estimator` in version 1.2 and will be removed in 1.4.\n",
      "  warnings.warn(\n",
      "/usr/local/lib/python3.10/dist-packages/sklearn/ensemble/_base.py:166: FutureWarning: `base_estimator` was renamed to `estimator` in version 1.2 and will be removed in 1.4.\n",
      "  warnings.warn(\n",
      "/usr/local/lib/python3.10/dist-packages/sklearn/ensemble/_base.py:166: FutureWarning: `base_estimator` was renamed to `estimator` in version 1.2 and will be removed in 1.4.\n",
      "  warnings.warn(\n",
      "/usr/local/lib/python3.10/dist-packages/sklearn/ensemble/_base.py:166: FutureWarning: `base_estimator` was renamed to `estimator` in version 1.2 and will be removed in 1.4.\n",
      "  warnings.warn(\n"
     ]
    },
    {
     "name": "stderr",
     "output_type": "stream",
     "text": [
      "/usr/local/lib/python3.10/dist-packages/sklearn/ensemble/_base.py:166: FutureWarning: `base_estimator` was renamed to `estimator` in version 1.2 and will be removed in 1.4.\n",
      "  warnings.warn(\n",
      "/usr/local/lib/python3.10/dist-packages/sklearn/ensemble/_base.py:166: FutureWarning: `base_estimator` was renamed to `estimator` in version 1.2 and will be removed in 1.4.\n",
      "  warnings.warn(\n"
     ]
    },
    {
     "data": {
      "text/html": [
       "<style>#sk-container-id-31 {color: black;background-color: white;}#sk-container-id-31 pre{padding: 0;}#sk-container-id-31 div.sk-toggleable {background-color: white;}#sk-container-id-31 label.sk-toggleable__label {cursor: pointer;display: block;width: 100%;margin-bottom: 0;padding: 0.3em;box-sizing: border-box;text-align: center;}#sk-container-id-31 label.sk-toggleable__label-arrow:before {content: \"▸\";float: left;margin-right: 0.25em;color: #696969;}#sk-container-id-31 label.sk-toggleable__label-arrow:hover:before {color: black;}#sk-container-id-31 div.sk-estimator:hover label.sk-toggleable__label-arrow:before {color: black;}#sk-container-id-31 div.sk-toggleable__content {max-height: 0;max-width: 0;overflow: hidden;text-align: left;background-color: #f0f8ff;}#sk-container-id-31 div.sk-toggleable__content pre {margin: 0.2em;color: black;border-radius: 0.25em;background-color: #f0f8ff;}#sk-container-id-31 input.sk-toggleable__control:checked~div.sk-toggleable__content {max-height: 200px;max-width: 100%;overflow: auto;}#sk-container-id-31 input.sk-toggleable__control:checked~label.sk-toggleable__label-arrow:before {content: \"▾\";}#sk-container-id-31 div.sk-estimator input.sk-toggleable__control:checked~label.sk-toggleable__label {background-color: #d4ebff;}#sk-container-id-31 div.sk-label input.sk-toggleable__control:checked~label.sk-toggleable__label {background-color: #d4ebff;}#sk-container-id-31 input.sk-hidden--visually {border: 0;clip: rect(1px 1px 1px 1px);clip: rect(1px, 1px, 1px, 1px);height: 1px;margin: -1px;overflow: hidden;padding: 0;position: absolute;width: 1px;}#sk-container-id-31 div.sk-estimator {font-family: monospace;background-color: #f0f8ff;border: 1px dotted black;border-radius: 0.25em;box-sizing: border-box;margin-bottom: 0.5em;}#sk-container-id-31 div.sk-estimator:hover {background-color: #d4ebff;}#sk-container-id-31 div.sk-parallel-item::after {content: \"\";width: 100%;border-bottom: 1px solid gray;flex-grow: 1;}#sk-container-id-31 div.sk-label:hover label.sk-toggleable__label {background-color: #d4ebff;}#sk-container-id-31 div.sk-serial::before {content: \"\";position: absolute;border-left: 1px solid gray;box-sizing: border-box;top: 0;bottom: 0;left: 50%;z-index: 0;}#sk-container-id-31 div.sk-serial {display: flex;flex-direction: column;align-items: center;background-color: white;padding-right: 0.2em;padding-left: 0.2em;position: relative;}#sk-container-id-31 div.sk-item {position: relative;z-index: 1;}#sk-container-id-31 div.sk-parallel {display: flex;align-items: stretch;justify-content: center;background-color: white;position: relative;}#sk-container-id-31 div.sk-item::before, #sk-container-id-31 div.sk-parallel-item::before {content: \"\";position: absolute;border-left: 1px solid gray;box-sizing: border-box;top: 0;bottom: 0;left: 50%;z-index: -1;}#sk-container-id-31 div.sk-parallel-item {display: flex;flex-direction: column;z-index: 1;position: relative;background-color: white;}#sk-container-id-31 div.sk-parallel-item:first-child::after {align-self: flex-end;width: 50%;}#sk-container-id-31 div.sk-parallel-item:last-child::after {align-self: flex-start;width: 50%;}#sk-container-id-31 div.sk-parallel-item:only-child::after {width: 0;}#sk-container-id-31 div.sk-dashed-wrapped {border: 1px dashed gray;margin: 0 0.4em 0.5em 0.4em;box-sizing: border-box;padding-bottom: 0.4em;background-color: white;}#sk-container-id-31 div.sk-label label {font-family: monospace;font-weight: bold;display: inline-block;line-height: 1.2em;}#sk-container-id-31 div.sk-label-container {text-align: center;}#sk-container-id-31 div.sk-container {/* jupyter's `normalize.less` sets `[hidden] { display: none; }` but bootstrap.min.css set `[hidden] { display: none !important; }` so we also need the `!important` here to be able to override the default hidden behavior on the sphinx rendered scikit-learn.org. See: https://github.com/scikit-learn/scikit-learn/issues/21755 */display: inline-block !important;position: relative;}#sk-container-id-31 div.sk-text-repr-fallback {display: none;}</style><div id=\"sk-container-id-31\" class=\"sk-top-container\"><div class=\"sk-text-repr-fallback\"><pre>GridSearchCV(cv=5,\n",
       "             estimator=AdaBoostClassifier(base_estimator=RandomForestClassifier(random_state=42),\n",
       "                                          random_state=42),\n",
       "             n_jobs=-1,\n",
       "             param_grid={&#x27;learning_rate&#x27;: [0.2, 0.5, 1],\n",
       "                         &#x27;n_estimators&#x27;: [100, 250, 500]},\n",
       "             scoring=&#x27;accuracy&#x27;)</pre><b>In a Jupyter environment, please rerun this cell to show the HTML representation or trust the notebook. <br />On GitHub, the HTML representation is unable to render, please try loading this page with nbviewer.org.</b></div><div class=\"sk-container\" hidden><div class=\"sk-item sk-dashed-wrapped\"><div class=\"sk-label-container\"><div class=\"sk-label sk-toggleable\"><input class=\"sk-toggleable__control sk-hidden--visually\" id=\"sk-estimator-id-69\" type=\"checkbox\" ><label for=\"sk-estimator-id-69\" class=\"sk-toggleable__label sk-toggleable__label-arrow\">GridSearchCV</label><div class=\"sk-toggleable__content\"><pre>GridSearchCV(cv=5,\n",
       "             estimator=AdaBoostClassifier(base_estimator=RandomForestClassifier(random_state=42),\n",
       "                                          random_state=42),\n",
       "             n_jobs=-1,\n",
       "             param_grid={&#x27;learning_rate&#x27;: [0.2, 0.5, 1],\n",
       "                         &#x27;n_estimators&#x27;: [100, 250, 500]},\n",
       "             scoring=&#x27;accuracy&#x27;)</pre></div></div></div><div class=\"sk-parallel\"><div class=\"sk-parallel-item\"><div class=\"sk-item\"><div class=\"sk-label-container\"><div class=\"sk-label sk-toggleable\"><input class=\"sk-toggleable__control sk-hidden--visually\" id=\"sk-estimator-id-70\" type=\"checkbox\" ><label for=\"sk-estimator-id-70\" class=\"sk-toggleable__label sk-toggleable__label-arrow\">estimator: AdaBoostClassifier</label><div class=\"sk-toggleable__content\"><pre>AdaBoostClassifier(base_estimator=RandomForestClassifier(random_state=42),\n",
       "                   random_state=42)</pre></div></div></div><div class=\"sk-serial\"><div class=\"sk-item sk-dashed-wrapped\"><div class=\"sk-parallel\"><div class=\"sk-parallel-item\"><div class=\"sk-item\"><div class=\"sk-label-container\"><div class=\"sk-label sk-toggleable\"><input class=\"sk-toggleable__control sk-hidden--visually\" id=\"sk-estimator-id-71\" type=\"checkbox\" ><label for=\"sk-estimator-id-71\" class=\"sk-toggleable__label sk-toggleable__label-arrow\">base_estimator: RandomForestClassifier</label><div class=\"sk-toggleable__content\"><pre>RandomForestClassifier(random_state=42)</pre></div></div></div><div class=\"sk-serial\"><div class=\"sk-item\"><div class=\"sk-estimator sk-toggleable\"><input class=\"sk-toggleable__control sk-hidden--visually\" id=\"sk-estimator-id-72\" type=\"checkbox\" ><label for=\"sk-estimator-id-72\" class=\"sk-toggleable__label sk-toggleable__label-arrow\">RandomForestClassifier</label><div class=\"sk-toggleable__content\"><pre>RandomForestClassifier(random_state=42)</pre></div></div></div></div></div></div></div></div></div></div></div></div></div></div></div>"
      ],
      "text/plain": [
       "GridSearchCV(cv=5,\n",
       "             estimator=AdaBoostClassifier(base_estimator=RandomForestClassifier(random_state=42),\n",
       "                                          random_state=42),\n",
       "             n_jobs=-1,\n",
       "             param_grid={'learning_rate': [0.2, 0.5, 1],\n",
       "                         'n_estimators': [100, 250, 500]},\n",
       "             scoring='accuracy')"
      ]
     },
     "execution_count": 292,
     "metadata": {},
     "output_type": "execute_result"
    }
   ],
   "source": [
    "ada_grid.fit(X_train,y_train)"
   ]
  },
  {
   "cell_type": "code",
   "execution_count": 293,
   "id": "8847730f",
   "metadata": {},
   "outputs": [
    {
     "data": {
      "text/plain": [
       "{'learning_rate': 1, 'n_estimators': 100}"
      ]
     },
     "execution_count": 293,
     "metadata": {},
     "output_type": "execute_result"
    }
   ],
   "source": [
    "# finding best model parameter\n",
    "ada_grid.best_params_"
   ]
  },
  {
   "cell_type": "code",
   "execution_count": 296,
   "id": "da950c7b",
   "metadata": {},
   "outputs": [],
   "source": [
    "#storing best model\n",
    "ada_best=ada_grid.best_estimator_"
   ]
  },
  {
   "cell_type": "markdown",
   "id": "3a186272",
   "metadata": {},
   "source": [
    "### Model Evaluation"
   ]
  },
  {
   "cell_type": "code",
   "execution_count": 297,
   "id": "8f36979a",
   "metadata": {},
   "outputs": [
    {
     "data": {
      "text/plain": [
       "array([[453,  31],\n",
       "       [ 81, 103]])"
      ]
     },
     "execution_count": 297,
     "metadata": {},
     "output_type": "execute_result"
    }
   ],
   "source": [
    "confusion_matrix(y_test,ada_best.predict(X_test))"
   ]
  },
  {
   "cell_type": "code",
   "execution_count": 298,
   "id": "ea8ee9ec",
   "metadata": {},
   "outputs": [
    {
     "data": {
      "text/plain": [
       "0.8323353293413174"
      ]
     },
     "execution_count": 298,
     "metadata": {},
     "output_type": "execute_result"
    }
   ],
   "source": [
    "accuracy_score(y_test,ada_best.predict(X_test))"
   ]
  },
  {
   "cell_type": "markdown",
   "id": "395b588a",
   "metadata": {},
   "source": [
    "## XGboost"
   ]
  },
  {
   "cell_type": "code",
   "execution_count": 303,
   "id": "66cea371",
   "metadata": {},
   "outputs": [],
   "source": [
    "import xgboost as xgb\n",
    "xgb_clf=xgb.XGBClassifier(random_state=42)"
   ]
  },
  {
   "cell_type": "code",
   "execution_count": 304,
   "id": "8404d062",
   "metadata": {},
   "outputs": [],
   "source": [
    "params={'n_estimators':[100,250,500],\n",
    "             'learning_rate':[0.3,0.5],\n",
    "             'max_depth':range(3,10,3),\n",
    "             'gamma' : [0.1,0.2,0.3],\n",
    "             'subsample':[0.8,0.9],\n",
    "             'colsample_bytree':[0.8,0.9],\n",
    "             'reg_alpha':[ 1e-2, 0.1, 1]\n",
    "            }\n",
    "xgb_grid=GridSearchCV(xgb_clf,params,n_jobs=-1,cv=5,scoring='accuracy')"
   ]
  },
  {
   "cell_type": "code",
   "execution_count": 305,
   "id": "f8ebf759",
   "metadata": {},
   "outputs": [
    {
     "data": {
      "text/html": [
       "<style>#sk-container-id-32 {color: black;background-color: white;}#sk-container-id-32 pre{padding: 0;}#sk-container-id-32 div.sk-toggleable {background-color: white;}#sk-container-id-32 label.sk-toggleable__label {cursor: pointer;display: block;width: 100%;margin-bottom: 0;padding: 0.3em;box-sizing: border-box;text-align: center;}#sk-container-id-32 label.sk-toggleable__label-arrow:before {content: \"▸\";float: left;margin-right: 0.25em;color: #696969;}#sk-container-id-32 label.sk-toggleable__label-arrow:hover:before {color: black;}#sk-container-id-32 div.sk-estimator:hover label.sk-toggleable__label-arrow:before {color: black;}#sk-container-id-32 div.sk-toggleable__content {max-height: 0;max-width: 0;overflow: hidden;text-align: left;background-color: #f0f8ff;}#sk-container-id-32 div.sk-toggleable__content pre {margin: 0.2em;color: black;border-radius: 0.25em;background-color: #f0f8ff;}#sk-container-id-32 input.sk-toggleable__control:checked~div.sk-toggleable__content {max-height: 200px;max-width: 100%;overflow: auto;}#sk-container-id-32 input.sk-toggleable__control:checked~label.sk-toggleable__label-arrow:before {content: \"▾\";}#sk-container-id-32 div.sk-estimator input.sk-toggleable__control:checked~label.sk-toggleable__label {background-color: #d4ebff;}#sk-container-id-32 div.sk-label input.sk-toggleable__control:checked~label.sk-toggleable__label {background-color: #d4ebff;}#sk-container-id-32 input.sk-hidden--visually {border: 0;clip: rect(1px 1px 1px 1px);clip: rect(1px, 1px, 1px, 1px);height: 1px;margin: -1px;overflow: hidden;padding: 0;position: absolute;width: 1px;}#sk-container-id-32 div.sk-estimator {font-family: monospace;background-color: #f0f8ff;border: 1px dotted black;border-radius: 0.25em;box-sizing: border-box;margin-bottom: 0.5em;}#sk-container-id-32 div.sk-estimator:hover {background-color: #d4ebff;}#sk-container-id-32 div.sk-parallel-item::after {content: \"\";width: 100%;border-bottom: 1px solid gray;flex-grow: 1;}#sk-container-id-32 div.sk-label:hover label.sk-toggleable__label {background-color: #d4ebff;}#sk-container-id-32 div.sk-serial::before {content: \"\";position: absolute;border-left: 1px solid gray;box-sizing: border-box;top: 0;bottom: 0;left: 50%;z-index: 0;}#sk-container-id-32 div.sk-serial {display: flex;flex-direction: column;align-items: center;background-color: white;padding-right: 0.2em;padding-left: 0.2em;position: relative;}#sk-container-id-32 div.sk-item {position: relative;z-index: 1;}#sk-container-id-32 div.sk-parallel {display: flex;align-items: stretch;justify-content: center;background-color: white;position: relative;}#sk-container-id-32 div.sk-item::before, #sk-container-id-32 div.sk-parallel-item::before {content: \"\";position: absolute;border-left: 1px solid gray;box-sizing: border-box;top: 0;bottom: 0;left: 50%;z-index: -1;}#sk-container-id-32 div.sk-parallel-item {display: flex;flex-direction: column;z-index: 1;position: relative;background-color: white;}#sk-container-id-32 div.sk-parallel-item:first-child::after {align-self: flex-end;width: 50%;}#sk-container-id-32 div.sk-parallel-item:last-child::after {align-self: flex-start;width: 50%;}#sk-container-id-32 div.sk-parallel-item:only-child::after {width: 0;}#sk-container-id-32 div.sk-dashed-wrapped {border: 1px dashed gray;margin: 0 0.4em 0.5em 0.4em;box-sizing: border-box;padding-bottom: 0.4em;background-color: white;}#sk-container-id-32 div.sk-label label {font-family: monospace;font-weight: bold;display: inline-block;line-height: 1.2em;}#sk-container-id-32 div.sk-label-container {text-align: center;}#sk-container-id-32 div.sk-container {/* jupyter's `normalize.less` sets `[hidden] { display: none; }` but bootstrap.min.css set `[hidden] { display: none !important; }` so we also need the `!important` here to be able to override the default hidden behavior on the sphinx rendered scikit-learn.org. See: https://github.com/scikit-learn/scikit-learn/issues/21755 */display: inline-block !important;position: relative;}#sk-container-id-32 div.sk-text-repr-fallback {display: none;}</style><div id=\"sk-container-id-32\" class=\"sk-top-container\"><div class=\"sk-text-repr-fallback\"><pre>GridSearchCV(cv=5,\n",
       "             estimator=XGBClassifier(base_score=None, booster=None,\n",
       "                                     callbacks=None, colsample_bylevel=None,\n",
       "                                     colsample_bynode=None,\n",
       "                                     colsample_bytree=None,\n",
       "                                     early_stopping_rounds=None,\n",
       "                                     enable_categorical=False, eval_metric=None,\n",
       "                                     feature_types=None, gamma=None,\n",
       "                                     gpu_id=None, grow_policy=None,\n",
       "                                     importance_type=None,\n",
       "                                     interaction_constraints=None,\n",
       "                                     learning_rate=None,...\n",
       "                                     max_leaves=None, min_child_weight=None,\n",
       "                                     missing=nan, monotone_constraints=None,\n",
       "                                     n_estimators=100, n_jobs=None,\n",
       "                                     num_parallel_tree=None, predictor=None,\n",
       "                                     random_state=42, ...),\n",
       "             n_jobs=-1,\n",
       "             param_grid={&#x27;colsample_bytree&#x27;: [0.8, 0.9],\n",
       "                         &#x27;gamma&#x27;: [0.1, 0.2, 0.3], &#x27;learning_rate&#x27;: [0.3, 0.5],\n",
       "                         &#x27;max_depth&#x27;: range(3, 10, 3),\n",
       "                         &#x27;n_estimators&#x27;: [100, 250, 500],\n",
       "                         &#x27;reg_alpha&#x27;: [0.01, 0.1, 1], &#x27;subsample&#x27;: [0.8, 0.9]},\n",
       "             scoring=&#x27;accuracy&#x27;)</pre><b>In a Jupyter environment, please rerun this cell to show the HTML representation or trust the notebook. <br />On GitHub, the HTML representation is unable to render, please try loading this page with nbviewer.org.</b></div><div class=\"sk-container\" hidden><div class=\"sk-item sk-dashed-wrapped\"><div class=\"sk-label-container\"><div class=\"sk-label sk-toggleable\"><input class=\"sk-toggleable__control sk-hidden--visually\" id=\"sk-estimator-id-73\" type=\"checkbox\" ><label for=\"sk-estimator-id-73\" class=\"sk-toggleable__label sk-toggleable__label-arrow\">GridSearchCV</label><div class=\"sk-toggleable__content\"><pre>GridSearchCV(cv=5,\n",
       "             estimator=XGBClassifier(base_score=None, booster=None,\n",
       "                                     callbacks=None, colsample_bylevel=None,\n",
       "                                     colsample_bynode=None,\n",
       "                                     colsample_bytree=None,\n",
       "                                     early_stopping_rounds=None,\n",
       "                                     enable_categorical=False, eval_metric=None,\n",
       "                                     feature_types=None, gamma=None,\n",
       "                                     gpu_id=None, grow_policy=None,\n",
       "                                     importance_type=None,\n",
       "                                     interaction_constraints=None,\n",
       "                                     learning_rate=None,...\n",
       "                                     max_leaves=None, min_child_weight=None,\n",
       "                                     missing=nan, monotone_constraints=None,\n",
       "                                     n_estimators=100, n_jobs=None,\n",
       "                                     num_parallel_tree=None, predictor=None,\n",
       "                                     random_state=42, ...),\n",
       "             n_jobs=-1,\n",
       "             param_grid={&#x27;colsample_bytree&#x27;: [0.8, 0.9],\n",
       "                         &#x27;gamma&#x27;: [0.1, 0.2, 0.3], &#x27;learning_rate&#x27;: [0.3, 0.5],\n",
       "                         &#x27;max_depth&#x27;: range(3, 10, 3),\n",
       "                         &#x27;n_estimators&#x27;: [100, 250, 500],\n",
       "                         &#x27;reg_alpha&#x27;: [0.01, 0.1, 1], &#x27;subsample&#x27;: [0.8, 0.9]},\n",
       "             scoring=&#x27;accuracy&#x27;)</pre></div></div></div><div class=\"sk-parallel\"><div class=\"sk-parallel-item\"><div class=\"sk-item\"><div class=\"sk-label-container\"><div class=\"sk-label sk-toggleable\"><input class=\"sk-toggleable__control sk-hidden--visually\" id=\"sk-estimator-id-74\" type=\"checkbox\" ><label for=\"sk-estimator-id-74\" class=\"sk-toggleable__label sk-toggleable__label-arrow\">estimator: XGBClassifier</label><div class=\"sk-toggleable__content\"><pre>XGBClassifier(base_score=None, booster=None, callbacks=None,\n",
       "              colsample_bylevel=None, colsample_bynode=None,\n",
       "              colsample_bytree=None, early_stopping_rounds=None,\n",
       "              enable_categorical=False, eval_metric=None, feature_types=None,\n",
       "              gamma=None, gpu_id=None, grow_policy=None, importance_type=None,\n",
       "              interaction_constraints=None, learning_rate=None, max_bin=None,\n",
       "              max_cat_threshold=None, max_cat_to_onehot=None,\n",
       "              max_delta_step=None, max_depth=None, max_leaves=None,\n",
       "              min_child_weight=None, missing=nan, monotone_constraints=None,\n",
       "              n_estimators=100, n_jobs=None, num_parallel_tree=None,\n",
       "              predictor=None, random_state=42, ...)</pre></div></div></div><div class=\"sk-serial\"><div class=\"sk-item\"><div class=\"sk-estimator sk-toggleable\"><input class=\"sk-toggleable__control sk-hidden--visually\" id=\"sk-estimator-id-75\" type=\"checkbox\" ><label for=\"sk-estimator-id-75\" class=\"sk-toggleable__label sk-toggleable__label-arrow\">XGBClassifier</label><div class=\"sk-toggleable__content\"><pre>XGBClassifier(base_score=None, booster=None, callbacks=None,\n",
       "              colsample_bylevel=None, colsample_bynode=None,\n",
       "              colsample_bytree=None, early_stopping_rounds=None,\n",
       "              enable_categorical=False, eval_metric=None, feature_types=None,\n",
       "              gamma=None, gpu_id=None, grow_policy=None, importance_type=None,\n",
       "              interaction_constraints=None, learning_rate=None, max_bin=None,\n",
       "              max_cat_threshold=None, max_cat_to_onehot=None,\n",
       "              max_delta_step=None, max_depth=None, max_leaves=None,\n",
       "              min_child_weight=None, missing=nan, monotone_constraints=None,\n",
       "              n_estimators=100, n_jobs=None, num_parallel_tree=None,\n",
       "              predictor=None, random_state=42, ...)</pre></div></div></div></div></div></div></div></div></div></div>"
      ],
      "text/plain": [
       "GridSearchCV(cv=5,\n",
       "             estimator=XGBClassifier(base_score=None, booster=None,\n",
       "                                     callbacks=None, colsample_bylevel=None,\n",
       "                                     colsample_bynode=None,\n",
       "                                     colsample_bytree=None,\n",
       "                                     early_stopping_rounds=None,\n",
       "                                     enable_categorical=False, eval_metric=None,\n",
       "                                     feature_types=None, gamma=None,\n",
       "                                     gpu_id=None, grow_policy=None,\n",
       "                                     importance_type=None,\n",
       "                                     interaction_constraints=None,\n",
       "                                     learning_rate=None,...\n",
       "                                     max_leaves=None, min_child_weight=None,\n",
       "                                     missing=nan, monotone_constraints=None,\n",
       "                                     n_estimators=100, n_jobs=None,\n",
       "                                     num_parallel_tree=None, predictor=None,\n",
       "                                     random_state=42, ...),\n",
       "             n_jobs=-1,\n",
       "             param_grid={'colsample_bytree': [0.8, 0.9],\n",
       "                         'gamma': [0.1, 0.2, 0.3], 'learning_rate': [0.3, 0.5],\n",
       "                         'max_depth': range(3, 10, 3),\n",
       "                         'n_estimators': [100, 250, 500],\n",
       "                         'reg_alpha': [0.01, 0.1, 1], 'subsample': [0.8, 0.9]},\n",
       "             scoring='accuracy')"
      ]
     },
     "execution_count": 305,
     "metadata": {},
     "output_type": "execute_result"
    }
   ],
   "source": [
    "xgb_grid.fit(X_train,y_train)"
   ]
  },
  {
   "cell_type": "code",
   "execution_count": 306,
   "id": "d9d9c810",
   "metadata": {},
   "outputs": [
    {
     "data": {
      "text/plain": [
       "{'colsample_bytree': 0.9,\n",
       " 'gamma': 0.1,\n",
       " 'learning_rate': 0.3,\n",
       " 'max_depth': 3,\n",
       " 'n_estimators': 100,\n",
       " 'reg_alpha': 1,\n",
       " 'subsample': 0.9}"
      ]
     },
     "execution_count": 306,
     "metadata": {},
     "output_type": "execute_result"
    }
   ],
   "source": [
    "#finding best model parameters\n",
    "xgb_grid.best_params_"
   ]
  },
  {
   "cell_type": "code",
   "execution_count": 307,
   "id": "36b2799d",
   "metadata": {},
   "outputs": [],
   "source": [
    "#storing best model\n",
    "xgb_best = xgb_grid.best_estimator_"
   ]
  },
  {
   "cell_type": "markdown",
   "id": "8d878c73",
   "metadata": {},
   "source": [
    "### Model Evaluation"
   ]
  },
  {
   "cell_type": "code",
   "execution_count": 308,
   "id": "533a647c",
   "metadata": {},
   "outputs": [
    {
     "data": {
      "text/plain": [
       "array([[437,  47],\n",
       "       [ 82, 102]])"
      ]
     },
     "execution_count": 308,
     "metadata": {},
     "output_type": "execute_result"
    }
   ],
   "source": [
    "confusion_matrix(y_test,xgb_best.predict(X_test))"
   ]
  },
  {
   "cell_type": "code",
   "execution_count": 309,
   "id": "33734389",
   "metadata": {},
   "outputs": [
    {
     "data": {
      "text/plain": [
       "0.8068862275449101"
      ]
     },
     "execution_count": 309,
     "metadata": {},
     "output_type": "execute_result"
    }
   ],
   "source": [
    "accuracy_score(y_test,xgb_best.predict(X_test))"
   ]
  },
  {
   "cell_type": "markdown",
   "id": "b89f1bf0",
   "metadata": {},
   "source": [
    "## Conclusion"
   ]
  },
  {
   "cell_type": "markdown",
   "id": "68154123",
   "metadata": {},
   "source": [
    "### Summary of all model evaluations"
   ]
  },
  {
   "cell_type": "markdown",
   "id": "4e594977",
   "metadata": {},
   "source": [
    "#### Logistic Regression\n",
    "Accuracy_score( Using default threshold value) = 0.811377245508982 \n",
    "\n",
    "Accuracy_score ( Using 0.7 as threshold value) = 0.8143712574850299\n",
    "\n",
    "#### Linear Discriminant Analysis \n",
    "Accuracy_score = 0.8203592814371258\n",
    "\n",
    "#### KNN\n",
    "Accuracy_score = 0.811377245508982\n",
    "\n",
    "#### Decision Tree\n",
    "Accuracy_score = 0.8053892215568862\n",
    "\n",
    "#### Bagging\n",
    "Accuracy_score = 0.8323353293413174\n",
    "\n",
    "#### Random Forest\n",
    "Accuracy_score = 0.8308383233532934\n",
    "\n",
    "#### Gradiant Boosting\n",
    "Accuracy_score = 0.8233532934131736\n",
    "\n",
    "#### ADA Boosting ( Using Random Forest as base_estimator)\n",
    "Accuracy_score = 0.8323353293413174\n",
    "\n",
    "#### XG Boosting\n",
    "Accuracy_score = 0.8068862275449101\n",
    "\n",
    "From the above summary, Bagging and ADA Boosting ( Using Random Forest as base_estimator) got highest accuracy scores. Though computation of bagging was way faster than ADA Boosting. So both can be used as classification models for this dataset."
   ]
  },
  {
   "cell_type": "markdown",
   "id": "3bcc5635",
   "metadata": {},
   "source": [
    "# To further improve the performance of selected model, I can take several steps:\n",
    "\n",
    "- **Data scaling:** As seen in the Rainfall column the data was highly skewed we can use differnt scaing techniques to scale the data in a way which will bw more acceptable to fit in the models. \n",
    "- **Increase the Number of Trees (Estimators):**\n",
    "    Random Forest's performance often benefits from increasing the number of decision trees (estimators) in the ensemble.\n",
    "- **Tune Hyperparameters:** Perform a more thorough hyperparameter tuning by experimenting with different values for parameters like max_depth, min_samples_split, min_samples_leaf, and max_features. Grid Search or Randomized Search can help find the optimal combination of hyperparameters.\n",
    "- **Feature Selection:** Consider removing or reducing the importance of less informative features to improve the model's efficiency and potentially its performance."
   ]
  },
  {
   "cell_type": "code",
   "execution_count": null,
   "id": "c7bc649f",
   "metadata": {},
   "outputs": [],
   "source": []
  }
 ],
 "metadata": {
  "kernelspec": {
   "display_name": "Python 3 (ipykernel)",
   "language": "python",
   "name": "python3"
  },
  "language_info": {
   "codemirror_mode": {
    "name": "ipython",
    "version": 3
   },
   "file_extension": ".py",
   "mimetype": "text/x-python",
   "name": "python",
   "nbconvert_exporter": "python",
   "pygments_lexer": "ipython3",
   "version": "3.10.12"
  }
 },
 "nbformat": 4,
 "nbformat_minor": 5
}
